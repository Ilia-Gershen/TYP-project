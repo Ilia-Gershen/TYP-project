{
  "nbformat": 4,
  "nbformat_minor": 0,
  "metadata": {
    "colab": {
      "provenance": [],
      "authorship_tag": "ABX9TyNwbZjVQACg94mLHE/FTcpS",
      "include_colab_link": true
    },
    "kernelspec": {
      "name": "python3",
      "display_name": "Python 3"
    },
    "language_info": {
      "name": "python"
    }
  },
  "cells": [
    {
      "cell_type": "markdown",
      "metadata": {
        "id": "view-in-github",
        "colab_type": "text"
      },
      "source": [
        "<a href=\"https://colab.research.google.com/github/Ilia-Gershen/TYP-project/blob/main/DeepLearningModel.ipynb\" target=\"_parent\"><img src=\"https://colab.research.google.com/assets/colab-badge.svg\" alt=\"Open In Colab\"/></a>"
      ]
    },
    {
      "cell_type": "markdown",
      "source": [
        "# Deep Learning Model:\n",
        "\n",
        "\n",
        "1.   Fuction Dataset for data separation into test and train\n",
        "2.   Creation of the Model\n",
        "\n"
      ],
      "metadata": {
        "id": "D5L2JqFMOZyg"
      }
    },
    {
      "cell_type": "code",
      "execution_count": 1,
      "metadata": {
        "id": "VdKwJx2T4BaB"
      },
      "outputs": [],
      "source": [
        "import math\n",
        "import numpy as np\n",
        "import pandas as pd\n",
        "import matplotlib.pyplot as plt\n",
        "import tensorflow as tf\n",
        "from sklearn.metrics import mean_squared_error, mean_absolute_error\n",
        "import warnings\n",
        "# warnings.filterwarnings('ignore')"
      ]
    },
    {
      "cell_type": "code",
      "source": [
        "from google.colab import drive #connecting google drive with Database of the project\n",
        "drive.mount('/content/drive')"
      ],
      "metadata": {
        "colab": {
          "base_uri": "https://localhost:8080/"
        },
        "id": "j7haJgt47E78",
        "outputId": "d453ffc5-40ee-4603-9644-7fd46ef1b8fc"
      },
      "execution_count": 2,
      "outputs": [
        {
          "output_type": "stream",
          "name": "stdout",
          "text": [
            "Mounted at /content/drive\n"
          ]
        }
      ]
    },
    {
      "cell_type": "code",
      "source": [
        "# Importing the csv made in data preprocessing stage\n",
        "ETH = pd.read_csv(\"/content/drive/MyDrive/Database/ETH-preprocessed.csv\")\n",
        "#ETH.sort_values(by = 'Date', ascending = False, inplace = True) #sorting it so on the top are the most recent dates\n",
        "ETH.head()"
      ],
      "metadata": {
        "colab": {
          "base_uri": "https://localhost:8080/",
          "height": 204
        },
        "id": "BZE-CxGO5fcc",
        "outputId": "46790246-babd-4ccb-8887-cd0bdb1d69cc"
      },
      "execution_count": 3,
      "outputs": [
        {
          "output_type": "execute_result",
          "data": {
            "text/plain": [
              "   Unnamed: 0        Date        Open        High         Low       Close  \\\n",
              "0           0  2017-11-19  347.401001  371.290985  344.739990  354.385986   \n",
              "1           1  2017-11-20  354.093994  372.136993  353.289001  366.730011   \n",
              "2           2  2017-11-21  367.442993  372.470001  350.692993  360.401001   \n",
              "3           3  2017-11-22  360.312012  381.420013  360.147003  380.652008   \n",
              "4           4  2017-11-23  381.438995  425.548004  376.088013  410.165985   \n",
              "\n",
              "    Adj Close        Volume  \n",
              "0  354.385986  1.181530e+09  \n",
              "1  366.730011  8.070270e+08  \n",
              "2  360.401001  9.499120e+08  \n",
              "3  380.652008  8.008190e+08  \n",
              "4  410.165985  1.845680e+09  "
            ],
            "text/html": [
              "\n",
              "  <div id=\"df-3cc02f32-58c6-4531-a620-d20279c736c7\">\n",
              "    <div class=\"colab-df-container\">\n",
              "      <div>\n",
              "<style scoped>\n",
              "    .dataframe tbody tr th:only-of-type {\n",
              "        vertical-align: middle;\n",
              "    }\n",
              "\n",
              "    .dataframe tbody tr th {\n",
              "        vertical-align: top;\n",
              "    }\n",
              "\n",
              "    .dataframe thead th {\n",
              "        text-align: right;\n",
              "    }\n",
              "</style>\n",
              "<table border=\"1\" class=\"dataframe\">\n",
              "  <thead>\n",
              "    <tr style=\"text-align: right;\">\n",
              "      <th></th>\n",
              "      <th>Unnamed: 0</th>\n",
              "      <th>Date</th>\n",
              "      <th>Open</th>\n",
              "      <th>High</th>\n",
              "      <th>Low</th>\n",
              "      <th>Close</th>\n",
              "      <th>Adj Close</th>\n",
              "      <th>Volume</th>\n",
              "    </tr>\n",
              "  </thead>\n",
              "  <tbody>\n",
              "    <tr>\n",
              "      <th>0</th>\n",
              "      <td>0</td>\n",
              "      <td>2017-11-19</td>\n",
              "      <td>347.401001</td>\n",
              "      <td>371.290985</td>\n",
              "      <td>344.739990</td>\n",
              "      <td>354.385986</td>\n",
              "      <td>354.385986</td>\n",
              "      <td>1.181530e+09</td>\n",
              "    </tr>\n",
              "    <tr>\n",
              "      <th>1</th>\n",
              "      <td>1</td>\n",
              "      <td>2017-11-20</td>\n",
              "      <td>354.093994</td>\n",
              "      <td>372.136993</td>\n",
              "      <td>353.289001</td>\n",
              "      <td>366.730011</td>\n",
              "      <td>366.730011</td>\n",
              "      <td>8.070270e+08</td>\n",
              "    </tr>\n",
              "    <tr>\n",
              "      <th>2</th>\n",
              "      <td>2</td>\n",
              "      <td>2017-11-21</td>\n",
              "      <td>367.442993</td>\n",
              "      <td>372.470001</td>\n",
              "      <td>350.692993</td>\n",
              "      <td>360.401001</td>\n",
              "      <td>360.401001</td>\n",
              "      <td>9.499120e+08</td>\n",
              "    </tr>\n",
              "    <tr>\n",
              "      <th>3</th>\n",
              "      <td>3</td>\n",
              "      <td>2017-11-22</td>\n",
              "      <td>360.312012</td>\n",
              "      <td>381.420013</td>\n",
              "      <td>360.147003</td>\n",
              "      <td>380.652008</td>\n",
              "      <td>380.652008</td>\n",
              "      <td>8.008190e+08</td>\n",
              "    </tr>\n",
              "    <tr>\n",
              "      <th>4</th>\n",
              "      <td>4</td>\n",
              "      <td>2017-11-23</td>\n",
              "      <td>381.438995</td>\n",
              "      <td>425.548004</td>\n",
              "      <td>376.088013</td>\n",
              "      <td>410.165985</td>\n",
              "      <td>410.165985</td>\n",
              "      <td>1.845680e+09</td>\n",
              "    </tr>\n",
              "  </tbody>\n",
              "</table>\n",
              "</div>\n",
              "      <button class=\"colab-df-convert\" onclick=\"convertToInteractive('df-3cc02f32-58c6-4531-a620-d20279c736c7')\"\n",
              "              title=\"Convert this dataframe to an interactive table.\"\n",
              "              style=\"display:none;\">\n",
              "        \n",
              "  <svg xmlns=\"http://www.w3.org/2000/svg\" height=\"24px\"viewBox=\"0 0 24 24\"\n",
              "       width=\"24px\">\n",
              "    <path d=\"M0 0h24v24H0V0z\" fill=\"none\"/>\n",
              "    <path d=\"M18.56 5.44l.94 2.06.94-2.06 2.06-.94-2.06-.94-.94-2.06-.94 2.06-2.06.94zm-11 1L8.5 8.5l.94-2.06 2.06-.94-2.06-.94L8.5 2.5l-.94 2.06-2.06.94zm10 10l.94 2.06.94-2.06 2.06-.94-2.06-.94-.94-2.06-.94 2.06-2.06.94z\"/><path d=\"M17.41 7.96l-1.37-1.37c-.4-.4-.92-.59-1.43-.59-.52 0-1.04.2-1.43.59L10.3 9.45l-7.72 7.72c-.78.78-.78 2.05 0 2.83L4 21.41c.39.39.9.59 1.41.59.51 0 1.02-.2 1.41-.59l7.78-7.78 2.81-2.81c.8-.78.8-2.07 0-2.86zM5.41 20L4 18.59l7.72-7.72 1.47 1.35L5.41 20z\"/>\n",
              "  </svg>\n",
              "      </button>\n",
              "      \n",
              "  <style>\n",
              "    .colab-df-container {\n",
              "      display:flex;\n",
              "      flex-wrap:wrap;\n",
              "      gap: 12px;\n",
              "    }\n",
              "\n",
              "    .colab-df-convert {\n",
              "      background-color: #E8F0FE;\n",
              "      border: none;\n",
              "      border-radius: 50%;\n",
              "      cursor: pointer;\n",
              "      display: none;\n",
              "      fill: #1967D2;\n",
              "      height: 32px;\n",
              "      padding: 0 0 0 0;\n",
              "      width: 32px;\n",
              "    }\n",
              "\n",
              "    .colab-df-convert:hover {\n",
              "      background-color: #E2EBFA;\n",
              "      box-shadow: 0px 1px 2px rgba(60, 64, 67, 0.3), 0px 1px 3px 1px rgba(60, 64, 67, 0.15);\n",
              "      fill: #174EA6;\n",
              "    }\n",
              "\n",
              "    [theme=dark] .colab-df-convert {\n",
              "      background-color: #3B4455;\n",
              "      fill: #D2E3FC;\n",
              "    }\n",
              "\n",
              "    [theme=dark] .colab-df-convert:hover {\n",
              "      background-color: #434B5C;\n",
              "      box-shadow: 0px 1px 3px 1px rgba(0, 0, 0, 0.15);\n",
              "      filter: drop-shadow(0px 1px 2px rgba(0, 0, 0, 0.3));\n",
              "      fill: #FFFFFF;\n",
              "    }\n",
              "  </style>\n",
              "\n",
              "      <script>\n",
              "        const buttonEl =\n",
              "          document.querySelector('#df-3cc02f32-58c6-4531-a620-d20279c736c7 button.colab-df-convert');\n",
              "        buttonEl.style.display =\n",
              "          google.colab.kernel.accessAllowed ? 'block' : 'none';\n",
              "\n",
              "        async function convertToInteractive(key) {\n",
              "          const element = document.querySelector('#df-3cc02f32-58c6-4531-a620-d20279c736c7');\n",
              "          const dataTable =\n",
              "            await google.colab.kernel.invokeFunction('convertToInteractive',\n",
              "                                                     [key], {});\n",
              "          if (!dataTable) return;\n",
              "\n",
              "          const docLinkHtml = 'Like what you see? Visit the ' +\n",
              "            '<a target=\"_blank\" href=https://colab.research.google.com/notebooks/data_table.ipynb>data table notebook</a>'\n",
              "            + ' to learn more about interactive tables.';\n",
              "          element.innerHTML = '';\n",
              "          dataTable['output_type'] = 'display_data';\n",
              "          await google.colab.output.renderOutput(dataTable, element);\n",
              "          const docLink = document.createElement('div');\n",
              "          docLink.innerHTML = docLinkHtml;\n",
              "          element.appendChild(docLink);\n",
              "        }\n",
              "      </script>\n",
              "    </div>\n",
              "  </div>\n",
              "  "
            ]
          },
          "metadata": {},
          "execution_count": 3
        }
      ]
    },
    {
      "cell_type": "markdown",
      "source": [
        "Data Processing"
      ],
      "metadata": {
        "id": "XPp0aSAy7Zja"
      }
    },
    {
      "cell_type": "code",
      "source": [
        "def Dataset(Data, Date): #function for creation of traning and testing datasets for the models\n",
        "\n",
        "  #Data for Training \n",
        "  Train_Data = Data['Close'][Data['Date'] < Date].to_numpy() #taking data befor the given date\n",
        "  TrainingData = []\n",
        "  TrainingDataX = []\n",
        "  TrainingDataY = []\n",
        "\n",
        "  for i in range(0, len(Train_Data), 7): #putting in close values data in form of weeks aka 7 days\n",
        "    try:\n",
        "      TrainingData.append(Train_Data[i:i+7]) #array of arrays of 7 close prices\n",
        "    except:\n",
        "      pass\n",
        "\n",
        "  if len(TrainingData[-1]) < 7: #If last week is less then 7 days we remove last week\n",
        "    TrainingData.pop(-1)\n",
        "\n",
        "  TrainingDataX = TrainingData[0 : -1] # converting to np array\n",
        "  TrainingDataX = np.array(TrainingDataX)\n",
        "  TrainingDataX = TrainingDataX.reshape((-1, 7, 1)) #split into groups of 7 \n",
        "\n",
        "  TrainingDataY = TrainingData[1:len(TrainingData)] # converting to np array\n",
        "  TrainingDataY = np.array(TrainingDataY)\n",
        "  TrainingDataY = TrainingDataY.reshape((-1, 7, 1)) # split into groups of 7 and keep the order\n",
        "\n",
        "  #Data for Testing\n",
        "  Test_Data = Data['Close'][Data['Date'] >= Date].to_numpy() #taking data from given date to latest date\n",
        "  TestData = []\n",
        "  TestDataX = []\n",
        "  TestDataY = []\n",
        "\n",
        "  for i in range(0, len(Test_Data), 7):\n",
        "    try:\n",
        "      TestData.append(Test_Data[i : i+7])\n",
        "    except:\n",
        "      pass\n",
        "\n",
        "  if len(TestData[-1]) < 7:\n",
        "    TestData.pop(-1)\n",
        "\n",
        "  TestDataX = TestData[0 : -1]\n",
        "  TestDataX = np.array(TestDataX)\n",
        "  TestDataX = TestDataX.reshape((-1, 7, 1))\n",
        "\n",
        "  TestDataY = TestData[1 : len(TestData)]\n",
        "  TestDataY = np.array(TestDataY)\n",
        "  TestDataY = TestDataY.reshape((-1, 7, 1))\n",
        " \n",
        "  return TrainingDataX, TrainingDataY, TestDataX, TestDataY\n"
      ],
      "metadata": {
        "id": "5o_Xyg7L7cu3"
      },
      "execution_count": 11,
      "outputs": []
    },
    {
      "cell_type": "markdown",
      "source": [
        "Model"
      ],
      "metadata": {
        "id": "0aJh7EyuNlhC"
      }
    },
    {
      "cell_type": "code",
      "source": [
        "def Model():\n",
        "\n",
        "  model = tf.keras.models.Sequential([\n",
        "      tf.keras.layers.LSTM\n",
        "  ])\n",
        "\n",
        "  return model"
      ],
      "metadata": {
        "id": "McLkgjGjNkR5"
      },
      "execution_count": null,
      "outputs": []
    }
  ]
}