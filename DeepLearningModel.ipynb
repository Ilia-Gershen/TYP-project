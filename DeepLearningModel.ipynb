{
  "nbformat": 4,
  "nbformat_minor": 0,
  "metadata": {
    "colab": {
      "provenance": [],
      "authorship_tag": "ABX9TyMftadQdzJ2iZefKzns9mQL",
      "include_colab_link": true
    },
    "kernelspec": {
      "name": "python3",
      "display_name": "Python 3"
    },
    "language_info": {
      "name": "python"
    }
  },
  "cells": [
    {
      "cell_type": "markdown",
      "metadata": {
        "id": "view-in-github",
        "colab_type": "text"
      },
      "source": [
        "<a href=\"https://colab.research.google.com/github/Ilia-Gershen/TYP-project/blob/main/DeepLearningModel.ipynb\" target=\"_parent\"><img src=\"https://colab.research.google.com/assets/colab-badge.svg\" alt=\"Open In Colab\"/></a>"
      ]
    },
    {
      "cell_type": "markdown",
      "source": [
        "# Deep Learning Model:\n",
        "\n",
        "\n",
        "1.   Fuction Dataset for data separation into test and train\n",
        "2.   Creation of the Model\n",
        "\n"
      ],
      "metadata": {
        "id": "D5L2JqFMOZyg"
      }
    },
    {
      "cell_type": "code",
      "execution_count": 1,
      "metadata": {
        "id": "VdKwJx2T4BaB"
      },
      "outputs": [],
      "source": [
        "import math\n",
        "import numpy as np\n",
        "import pandas as pd\n",
        "import matplotlib.pyplot as plt\n",
        "import tensorflow as tf\n",
        "from sklearn.metrics import mean_squared_error, mean_absolute_error\n",
        "import warnings\n",
        "# warnings.filterwarnings('ignore')"
      ]
    },
    {
      "cell_type": "code",
      "source": [
        "from google.colab import drive #connecting google drive with Database of the project\n",
        "drive.mount('/content/drive')"
      ],
      "metadata": {
        "colab": {
          "base_uri": "https://localhost:8080/"
        },
        "id": "j7haJgt47E78",
        "outputId": "e3565e6a-ad75-4ad9-f2a1-aad6d4645421"
      },
      "execution_count": 2,
      "outputs": [
        {
          "output_type": "stream",
          "name": "stdout",
          "text": [
            "Mounted at /content/drive\n"
          ]
        }
      ]
    },
    {
      "cell_type": "code",
      "source": [
        "# Importing the csv made in data preprocessing stage\n",
        "ETH = pd.read_csv(\"/content/drive/MyDrive/Database/ETH-preprocessed.csv\")\n",
        "#ETH.sort_values(by = 'Date', ascending = False, inplace = True) #sorting it so on the top are the most recent dates\n",
        "ETH.head()"
      ],
      "metadata": {
        "colab": {
          "base_uri": "https://localhost:8080/",
          "height": 248
        },
        "id": "BZE-CxGO5fcc",
        "outputId": "addbcd4b-9f99-4944-cf9d-c6d1624a87f2"
      },
      "execution_count": 3,
      "outputs": [
        {
          "output_type": "execute_result",
          "data": {
            "text/plain": [
              "   Unnamed: 0        Date        Open        High         Low       Close  \\\n",
              "0           0  2017-11-19  347.401001  371.290985  344.739990  354.385986   \n",
              "1           1  2017-11-20  354.093994  372.136993  353.289001  366.730011   \n",
              "2           2  2017-11-21  367.442993  372.470001  350.692993  360.401001   \n",
              "3           3  2017-11-22  360.312012  381.420013  360.147003  380.652008   \n",
              "4           4  2017-11-23  381.438995  425.548004  376.088013  410.165985   \n",
              "\n",
              "    Adj Close        Volume  \n",
              "0  354.385986  1.181530e+09  \n",
              "1  366.730011  8.070270e+08  \n",
              "2  360.401001  9.499120e+08  \n",
              "3  380.652008  8.008190e+08  \n",
              "4  410.165985  1.845680e+09  "
            ],
            "text/html": [
              "\n",
              "  <div id=\"df-f4de623a-bf09-4d8f-9db7-91d8979acc79\">\n",
              "    <div class=\"colab-df-container\">\n",
              "      <div>\n",
              "<style scoped>\n",
              "    .dataframe tbody tr th:only-of-type {\n",
              "        vertical-align: middle;\n",
              "    }\n",
              "\n",
              "    .dataframe tbody tr th {\n",
              "        vertical-align: top;\n",
              "    }\n",
              "\n",
              "    .dataframe thead th {\n",
              "        text-align: right;\n",
              "    }\n",
              "</style>\n",
              "<table border=\"1\" class=\"dataframe\">\n",
              "  <thead>\n",
              "    <tr style=\"text-align: right;\">\n",
              "      <th></th>\n",
              "      <th>Unnamed: 0</th>\n",
              "      <th>Date</th>\n",
              "      <th>Open</th>\n",
              "      <th>High</th>\n",
              "      <th>Low</th>\n",
              "      <th>Close</th>\n",
              "      <th>Adj Close</th>\n",
              "      <th>Volume</th>\n",
              "    </tr>\n",
              "  </thead>\n",
              "  <tbody>\n",
              "    <tr>\n",
              "      <th>0</th>\n",
              "      <td>0</td>\n",
              "      <td>2017-11-19</td>\n",
              "      <td>347.401001</td>\n",
              "      <td>371.290985</td>\n",
              "      <td>344.739990</td>\n",
              "      <td>354.385986</td>\n",
              "      <td>354.385986</td>\n",
              "      <td>1.181530e+09</td>\n",
              "    </tr>\n",
              "    <tr>\n",
              "      <th>1</th>\n",
              "      <td>1</td>\n",
              "      <td>2017-11-20</td>\n",
              "      <td>354.093994</td>\n",
              "      <td>372.136993</td>\n",
              "      <td>353.289001</td>\n",
              "      <td>366.730011</td>\n",
              "      <td>366.730011</td>\n",
              "      <td>8.070270e+08</td>\n",
              "    </tr>\n",
              "    <tr>\n",
              "      <th>2</th>\n",
              "      <td>2</td>\n",
              "      <td>2017-11-21</td>\n",
              "      <td>367.442993</td>\n",
              "      <td>372.470001</td>\n",
              "      <td>350.692993</td>\n",
              "      <td>360.401001</td>\n",
              "      <td>360.401001</td>\n",
              "      <td>9.499120e+08</td>\n",
              "    </tr>\n",
              "    <tr>\n",
              "      <th>3</th>\n",
              "      <td>3</td>\n",
              "      <td>2017-11-22</td>\n",
              "      <td>360.312012</td>\n",
              "      <td>381.420013</td>\n",
              "      <td>360.147003</td>\n",
              "      <td>380.652008</td>\n",
              "      <td>380.652008</td>\n",
              "      <td>8.008190e+08</td>\n",
              "    </tr>\n",
              "    <tr>\n",
              "      <th>4</th>\n",
              "      <td>4</td>\n",
              "      <td>2017-11-23</td>\n",
              "      <td>381.438995</td>\n",
              "      <td>425.548004</td>\n",
              "      <td>376.088013</td>\n",
              "      <td>410.165985</td>\n",
              "      <td>410.165985</td>\n",
              "      <td>1.845680e+09</td>\n",
              "    </tr>\n",
              "  </tbody>\n",
              "</table>\n",
              "</div>\n",
              "      <button class=\"colab-df-convert\" onclick=\"convertToInteractive('df-f4de623a-bf09-4d8f-9db7-91d8979acc79')\"\n",
              "              title=\"Convert this dataframe to an interactive table.\"\n",
              "              style=\"display:none;\">\n",
              "        \n",
              "  <svg xmlns=\"http://www.w3.org/2000/svg\" height=\"24px\"viewBox=\"0 0 24 24\"\n",
              "       width=\"24px\">\n",
              "    <path d=\"M0 0h24v24H0V0z\" fill=\"none\"/>\n",
              "    <path d=\"M18.56 5.44l.94 2.06.94-2.06 2.06-.94-2.06-.94-.94-2.06-.94 2.06-2.06.94zm-11 1L8.5 8.5l.94-2.06 2.06-.94-2.06-.94L8.5 2.5l-.94 2.06-2.06.94zm10 10l.94 2.06.94-2.06 2.06-.94-2.06-.94-.94-2.06-.94 2.06-2.06.94z\"/><path d=\"M17.41 7.96l-1.37-1.37c-.4-.4-.92-.59-1.43-.59-.52 0-1.04.2-1.43.59L10.3 9.45l-7.72 7.72c-.78.78-.78 2.05 0 2.83L4 21.41c.39.39.9.59 1.41.59.51 0 1.02-.2 1.41-.59l7.78-7.78 2.81-2.81c.8-.78.8-2.07 0-2.86zM5.41 20L4 18.59l7.72-7.72 1.47 1.35L5.41 20z\"/>\n",
              "  </svg>\n",
              "      </button>\n",
              "      \n",
              "  <style>\n",
              "    .colab-df-container {\n",
              "      display:flex;\n",
              "      flex-wrap:wrap;\n",
              "      gap: 12px;\n",
              "    }\n",
              "\n",
              "    .colab-df-convert {\n",
              "      background-color: #E8F0FE;\n",
              "      border: none;\n",
              "      border-radius: 50%;\n",
              "      cursor: pointer;\n",
              "      display: none;\n",
              "      fill: #1967D2;\n",
              "      height: 32px;\n",
              "      padding: 0 0 0 0;\n",
              "      width: 32px;\n",
              "    }\n",
              "\n",
              "    .colab-df-convert:hover {\n",
              "      background-color: #E2EBFA;\n",
              "      box-shadow: 0px 1px 2px rgba(60, 64, 67, 0.3), 0px 1px 3px 1px rgba(60, 64, 67, 0.15);\n",
              "      fill: #174EA6;\n",
              "    }\n",
              "\n",
              "    [theme=dark] .colab-df-convert {\n",
              "      background-color: #3B4455;\n",
              "      fill: #D2E3FC;\n",
              "    }\n",
              "\n",
              "    [theme=dark] .colab-df-convert:hover {\n",
              "      background-color: #434B5C;\n",
              "      box-shadow: 0px 1px 3px 1px rgba(0, 0, 0, 0.15);\n",
              "      filter: drop-shadow(0px 1px 2px rgba(0, 0, 0, 0.3));\n",
              "      fill: #FFFFFF;\n",
              "    }\n",
              "  </style>\n",
              "\n",
              "      <script>\n",
              "        const buttonEl =\n",
              "          document.querySelector('#df-f4de623a-bf09-4d8f-9db7-91d8979acc79 button.colab-df-convert');\n",
              "        buttonEl.style.display =\n",
              "          google.colab.kernel.accessAllowed ? 'block' : 'none';\n",
              "\n",
              "        async function convertToInteractive(key) {\n",
              "          const element = document.querySelector('#df-f4de623a-bf09-4d8f-9db7-91d8979acc79');\n",
              "          const dataTable =\n",
              "            await google.colab.kernel.invokeFunction('convertToInteractive',\n",
              "                                                     [key], {});\n",
              "          if (!dataTable) return;\n",
              "\n",
              "          const docLinkHtml = 'Like what you see? Visit the ' +\n",
              "            '<a target=\"_blank\" href=https://colab.research.google.com/notebooks/data_table.ipynb>data table notebook</a>'\n",
              "            + ' to learn more about interactive tables.';\n",
              "          element.innerHTML = '';\n",
              "          dataTable['output_type'] = 'display_data';\n",
              "          await google.colab.output.renderOutput(dataTable, element);\n",
              "          const docLink = document.createElement('div');\n",
              "          docLink.innerHTML = docLinkHtml;\n",
              "          element.appendChild(docLink);\n",
              "        }\n",
              "      </script>\n",
              "    </div>\n",
              "  </div>\n",
              "  "
            ]
          },
          "metadata": {},
          "execution_count": 3
        }
      ]
    },
    {
      "cell_type": "markdown",
      "source": [
        "Data Processing"
      ],
      "metadata": {
        "id": "XPp0aSAy7Zja"
      }
    },
    {
      "cell_type": "code",
      "source": [
        "def Dataset(Data, Date): #function for creation of traning and testing datasets for the models\n",
        "\n",
        "  #Data for Training \n",
        "  Train_Data = Data['Close'][Data['Date'] < Date].to_numpy() #taking data befor the given date\n",
        "  TrainingData = []\n",
        "  TrainingDataX = []\n",
        "  TrainingDataY = []\n",
        "\n",
        "  for i in range(0, len(Train_Data), 7): #putting in close values data in form of weeks aka 7 days\n",
        "    try:\n",
        "      TrainingData.append(Train_Data[i:i+7]) #array of arrays of 7 close prices\n",
        "    except:\n",
        "      pass\n",
        "\n",
        "  if len(TrainingData[-1]) < 7: #If last week is less then 7 days we remove last week\n",
        "    TrainingData.pop(-1)\n",
        "\n",
        "  TrainingDataX = TrainingData[0 : -1] # converting to np array\n",
        "  TrainingDataX = np.array(TrainingDataX)\n",
        "  TrainingDataX = TrainingDataX.reshape((-1, 7, 1)) #split into groups of 7 \n",
        "\n",
        "  TrainingDataY = TrainingData[1:len(TrainingData)] # converting to np array\n",
        "  TrainingDataY = np.array(TrainingDataY)\n",
        "  TrainingDataY = TrainingDataY.reshape((-1, 7, 1)) # split into groups of 7 and keep the order\n",
        "\n",
        "  #Data for Testing\n",
        "  Test_Data = Data['Close'][Data['Date'] >= Date].to_numpy() #taking data from given date to latest date\n",
        "  TestData = []\n",
        "  TestDataX = []\n",
        "  TestDataY = []\n",
        "\n",
        "  for i in range(0, len(Test_Data), 7):\n",
        "    try:\n",
        "      TestData.append(Test_Data[i : i + 7])\n",
        "    except:\n",
        "      pass\n",
        "\n",
        "  if len(TestData[-1]) < 7:\n",
        "    TestData.pop(-1)\n",
        "\n",
        "  TestDataX = TestData[0 : -1]\n",
        "  TestDataX = np.array(TestDataX)\n",
        "  TestDataX = TestDataX.reshape((-1, 7, 1))\n",
        "\n",
        "  TestDataY = TestData[1 : len(TestData)]\n",
        "  TestDataY = np.array(TestDataY)\n",
        "  TestDataY = TestDataY.reshape((-1, 7, 1))\n",
        " \n",
        "  return TrainingDataX, TrainingDataY, TestDataX, TestDataY\n"
      ],
      "metadata": {
        "id": "5o_Xyg7L7cu3"
      },
      "execution_count": 4,
      "outputs": []
    },
    {
      "cell_type": "markdown",
      "source": [
        "Model"
      ],
      "metadata": {
        "id": "0aJh7EyuNlhC"
      }
    },
    {
      "cell_type": "code",
      "source": [
        "def Model():\n",
        "\n",
        "  model = tf.keras.models.Sequential([ #im not sure about 4 it could be 7 as well\n",
        "      tf.keras.layers.LSTM(200, input_shape = (7,1), activation = tf.nn.leaky_relu, return_sequences = True),\n",
        "      tf.keras.layers.LSTM(200, activation = tf.nn.leaky_relu),\n",
        "      tf.keras.layers.Dense(200, activation = tf.nn.leaky_relu),\n",
        "      tf.keras.layers.Dense(100, activation = tf.nn.leaky_relu),\n",
        "      tf.keras.layers.Dense(50, activation = tf.nn.leaky_relu),\n",
        "      tf.keras.layers.Dense(7, activation = tf.nn.leaky_relu)\n",
        "  ])\n",
        "\n",
        "  return model"
      ],
      "metadata": {
        "id": "McLkgjGjNkR5"
      },
      "execution_count": 40,
      "outputs": []
    },
    {
      "cell_type": "code",
      "source": [
        "model = Model()\n",
        "\n",
        "model.summary()"
      ],
      "metadata": {
        "colab": {
          "base_uri": "https://localhost:8080/"
        },
        "id": "W45q9Gl9HEkM",
        "outputId": "014bfeab-26fd-4ff3-d938-f0b09c2471af"
      },
      "execution_count": 41,
      "outputs": [
        {
          "output_type": "stream",
          "name": "stdout",
          "text": [
            "Model: \"sequential_9\"\n",
            "_________________________________________________________________\n",
            " Layer (type)                Output Shape              Param #   \n",
            "=================================================================\n",
            " lstm_22 (LSTM)              (None, 7, 200)            161600    \n",
            "                                                                 \n",
            " lstm_23 (LSTM)              (None, 200)               320800    \n",
            "                                                                 \n",
            " dense_36 (Dense)            (None, 200)               40200     \n",
            "                                                                 \n",
            " dense_37 (Dense)            (None, 100)               20100     \n",
            "                                                                 \n",
            " dense_38 (Dense)            (None, 50)                5050      \n",
            "                                                                 \n",
            " dense_39 (Dense)            (None, 7)                 357       \n",
            "                                                                 \n",
            "=================================================================\n",
            "Total params: 548,107\n",
            "Trainable params: 548,107\n",
            "Non-trainable params: 0\n",
            "_________________________________________________________________\n"
          ]
        }
      ]
    },
    {
      "cell_type": "markdown",
      "source": [
        "Learning Rate"
      ],
      "metadata": {
        "id": "V5lttdVZIxvD"
      }
    },
    {
      "cell_type": "code",
      "source": [
        "def scheduler(epoch):\n",
        "  if epoch <= 150:\n",
        "    lrate = (10 ** -5) * (epoch / 150)\n",
        "  elif epoch <= 400:\n",
        "    initialLrate = (10 ** -5)\n",
        "    k = 0.01\n",
        "    lrate = initialLrate * math.exp(-k * (epoch - 150))\n",
        "  else:\n",
        "    lrate = (10 ** -6)\n",
        "\n",
        "  return lrate"
      ],
      "metadata": {
        "id": "_CPoB0MXIVoH"
      },
      "execution_count": 31,
      "outputs": []
    },
    {
      "cell_type": "code",
      "source": [
        "epoch = [i for i in range(1, 1001)]\n",
        "lrate = [scheduler(i) for i in range(1, 1001)]\n",
        "plt.plot(epoch, lrate)"
      ],
      "metadata": {
        "colab": {
          "base_uri": "https://localhost:8080/",
          "height": 293
        },
        "id": "z5m71DvaOIqE",
        "outputId": "a3437ea3-9926-4d5c-f094-a57717c952bd"
      },
      "execution_count": 32,
      "outputs": [
        {
          "output_type": "execute_result",
          "data": {
            "text/plain": [
              "[<matplotlib.lines.Line2D at 0x7f9acfaff400>]"
            ]
          },
          "metadata": {},
          "execution_count": 32
        },
        {
          "output_type": "display_data",
          "data": {
            "text/plain": [
              "<Figure size 432x288 with 1 Axes>"
            ],
            "image/png": "[encoded data removed]"
          },
          "metadata": {
            "needs_background": "light"
          }
        }
      ]
    },
    {
      "cell_type": "code",
      "source": [
        "callback = tf.keras.callbacks.LearningRateScheduler(scheduler)"
      ],
      "metadata": {
        "id": "I7EjscxMOmh3"
      },
      "execution_count": 33,
      "outputs": []
    },
    {
      "cell_type": "markdown",
      "source": [
        "ETH"
      ],
      "metadata": {
        "id": "2YsqRqLaO1-s"
      }
    },
    {
      "cell_type": "code",
      "source": [
        "ETH.info()"
      ],
      "metadata": {
        "colab": {
          "base_uri": "https://localhost:8080/"
        },
        "id": "idXWuMdjO1IV",
        "outputId": "e631d86f-b5ef-43cf-ca56-e7e85e201806"
      },
      "execution_count": 34,
      "outputs": [
        {
          "output_type": "stream",
          "name": "stdout",
          "text": [
            "<class 'pandas.core.frame.DataFrame'>\n",
            "RangeIndex: 1827 entries, 0 to 1826\n",
            "Data columns (total 8 columns):\n",
            " #   Column      Non-Null Count  Dtype         \n",
            "---  ------      --------------  -----         \n",
            " 0   Unnamed: 0  1827 non-null   int64         \n",
            " 1   Date        1827 non-null   datetime64[ns]\n",
            " 2   Open        1827 non-null   float64       \n",
            " 3   High        1827 non-null   float64       \n",
            " 4   Low         1827 non-null   float64       \n",
            " 5   Close       1827 non-null   float64       \n",
            " 6   Adj Close   1827 non-null   float64       \n",
            " 7   Volume      1827 non-null   float64       \n",
            "dtypes: datetime64[ns](1), float64(6), int64(1)\n",
            "memory usage: 114.3 KB\n"
          ]
        }
      ]
    },
    {
      "cell_type": "code",
      "source": [
        "ETH[\"Date\"] = pd.to_datetime(ETH[\"Date\"])"
      ],
      "metadata": {
        "id": "IPrHjtYnQk7m"
      },
      "execution_count": 35,
      "outputs": []
    },
    {
      "cell_type": "markdown",
      "source": [
        "Split Data into Training and Testing sets\n",
        "\n",
        "\n",
        "*   Training Period: 2017-11-19 to 2021-11-19\n",
        "*   Testing Period: 2021-11-20 to 2022-11-19\n",
        "\n"
      ],
      "metadata": {
        "id": "XUTCaVXdRHtm"
      }
    },
    {
      "cell_type": "code",
      "source": [
        "ETH_Train_X, ETH_Train_Y, ETH_Test_X, ETH_Test_Y = Dataset(ETH, '2021-11-20')"
      ],
      "metadata": {
        "id": "KXjxKHvcRLg1"
      },
      "execution_count": 36,
      "outputs": []
    },
    {
      "cell_type": "markdown",
      "source": [
        "Model Fitting"
      ],
      "metadata": {
        "id": "4euSFfHdTOQG"
      }
    },
    {
      "cell_type": "code",
      "source": [
        "ETH_Model = Model()"
      ],
      "metadata": {
        "id": "NXaqu06_TQhJ"
      },
      "execution_count": 42,
      "outputs": []
    },
    {
      "cell_type": "code",
      "source": [
        "ETH_Model.compile(optimizer = tf.keras.optimizers.Adam(), loss = 'mse', metrics = tf.keras.metrics.RootMeanSquaredError())"
      ],
      "metadata": {
        "id": "dLh05NPCUHgk"
      },
      "execution_count": 43,
      "outputs": []
    },
    {
      "cell_type": "code",
      "source": [
        "ETH_hist = ETH_Model.fit(ETH_Train_X, ETH_Train_Y, epochs = 1000, validation_data = (ETH_Test_X, ETH_Test_Y), callbacks = [callback])"
      ],
      "metadata": {
        "id": "LW9LTn0mUr3Q"
      },
      "execution_count": null,
      "outputs": []
    },
    {
      "cell_type": "code",
      "source": [
        "historyDict = ETH_hist.history\n",
        "\n",
        "loss = historyDict[\"loss\"]\n",
        "root_mean_squared_error = historyDict[\"root_mean_squared_error\"]\n",
        "valLoss = historyDict[\"val_loss\"]\n",
        "val_root_mean_squared_error = historyDict[\"val_root_mean_squared_error\"]\n",
        "\n",
        "epochs = range(1, len(loss) + 1)"
      ],
      "metadata": {
        "id": "hiBnTNvgWcoR"
      },
      "execution_count": 45,
      "outputs": []
    },
    {
      "cell_type": "code",
      "source": [
        "fig, (ax1, ax2) = plt.subplots(1, 2)\n",
        "\n",
        "fig.set_figheight(5)\n",
        "fig.set_figwidth(15)\n",
        "\n",
        "ax1.plot(epochs, loss, label = 'Training Loss')\n",
        "ax1.plot(epochs, valLoss, label = 'Validation Loss')\n",
        "ax1.set(xlabel = \"Epochs\", ylabel = \"Loss\")\n",
        "ax1.legend()\n",
        "\n",
        "ax2.plot(epochs, root_mean_squared_error, label = \"Training Root Mean Squared Error\")\n",
        "ax2.plot(epochs, val_root_mean_squared_error, label = \"Validation Root Mean Squared Error\")\n",
        "ax2.set(xlabel = \"Epochs\", ylabel = \"Loss\")\n",
        "ax2.legend()\n",
        "\n",
        "plt.show()"
      ],
      "metadata": {
        "colab": {
          "base_uri": "https://localhost:8080/",
          "height": 308
        },
        "id": "YqMcBOgAXrjz",
        "outputId": "8fd01e47-6ecb-4a74-b4bc-a0c9f9a7d748"
      },
      "execution_count": 46,
      "outputs": [
        {
          "output_type": "display_data",
          "data": {
            "text/plain": [
              "<Figure size 1080x360 with 2 Axes>"
            ],
            "image/png": "[encoded data removed]"
          },
          "metadata": {
            "needs_background": "light"
          }
        }
      ]
    },
    {
      "cell_type": "markdown",
      "source": [
        "Predicting the closing price for ETH for a week"
      ],
      "metadata": {
        "id": "e8BKQ8cpLJVB"
      }
    },
    {
      "cell_type": "code",
      "source": [
        "ETH_prediction = ETH_Model.predict(ETH_Test_X)"
      ],
      "metadata": {
        "colab": {
          "base_uri": "https://localhost:8080/"
        },
        "id": "O1s-qFXULNM0",
        "outputId": "c48d0761-4ffc-44af-db8b-67eea96c0268"
      },
      "execution_count": 47,
      "outputs": [
        {
          "output_type": "stream",
          "name": "stdout",
          "text": [
            "2/2 [==============================] - 0s 16ms/step\n"
          ]
        }
      ]
    },
    {
      "cell_type": "code",
      "source": [
        "plt.figure(figsize = (20, 5))\n",
        "\n",
        "plt.plot(ETH['Date'][ETH['Date'] < '2021-11-25'], ETH['Close'][ETH['Date'] < '2021-11-25'], label = 'Training')\n",
        "plt.plot(ETH['Date'][ETH['Date'] >= '2021-11-26'], ETH['Close'][ETH['Date'] >= '2021-11-26'], label = 'Testing')\n",
        "plt.plot(ETH['Date'][ETH['Date'] >= '2021-11-28'], ETH_prediction.reshape(-1), label = 'Predictions')\n",
        "plt.xlabel('Time')\n",
        "plt.ylabel('Closing Price')\n",
        "plt.legend(loc = 'best')"
      ],
      "metadata": {
        "colab": {
          "base_uri": "https://localhost:8080/",
          "height": 245
        },
        "id": "bHEFZg7ULaNB",
        "outputId": "fd37ca2d-9779-4b67-dc92-c32c5e8bb084"
      },
      "execution_count": 57,
      "outputs": [
        {
          "output_type": "execute_result",
          "data": {
            "text/plain": [
              "<matplotlib.legend.Legend at 0x7f9ad1ac9760>"
            ]
          },
          "metadata": {},
          "execution_count": 57
        },
        {
          "output_type": "display_data",
          "data": {
            "text/plain": [
              "<Figure size 1440x360 with 1 Axes>"
            ],
            "image/png": "[encoded data removed]"
          },
          "metadata": {
            "needs_background": "light"
          }
        }
      ]
    },
    {
      "cell_type": "code",
      "source": [
        "rmse = math.sqrt(mean_squared_error(ETH_Test_Y.reshape(-1,7), ETH_prediction))\n",
        "mape = np.mean(np.abs(ETH_Test_Y.reshape(-1,7) - ETH_prediction )/np.abs(ETH_Test_Y.reshape(-1,7))) * 100\n",
        "print(f'RMSE: {rmse}')\n",
        "print(f'MAPE: {mape}')"
      ],
      "metadata": {
        "colab": {
          "base_uri": "https://localhost:8080/"
        },
        "id": "n5N3gkBHYh7z",
        "outputId": "bc359f45-2a04-4050-e7e1-761df40af680"
      },
      "execution_count": 59,
      "outputs": [
        {
          "output_type": "stream",
          "name": "stdout",
          "text": [
            "RMSE: 247.98790160443914\n",
            "MAPE: 8.472312470852971\n"
          ]
        }
      ]
    }
  ]
}