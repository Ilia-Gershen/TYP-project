{
  "nbformat": 4,
  "nbformat_minor": 0,
  "metadata": {
    "colab": {
      "provenance": [],
      "authorship_tag": "ABX9TyN/5IVUBwtCMEejAEYFv0TJ",
      "include_colab_link": true
    },
    "kernelspec": {
      "name": "python3",
      "display_name": "Python 3"
    },
    "language_info": {
      "name": "python"
    }
  },
  "cells": [
    {
      "cell_type": "markdown",
      "metadata": {
        "id": "view-in-github",
        "colab_type": "text"
      },
      "source": [
        "<a href=\"https://colab.research.google.com/github/Ilia-Gershen/TYP-project/blob/main/DeepLearningModel.ipynb\" target=\"_parent\"><img src=\"https://colab.research.google.com/assets/colab-badge.svg\" alt=\"Open In Colab\"/></a>"
      ]
    },
    {
      "cell_type": "code",
      "execution_count": 1,
      "metadata": {
        "id": "VdKwJx2T4BaB"
      },
      "outputs": [],
      "source": [
        "import math\n",
        "import numpy as np\n",
        "import pandas as pd\n",
        "import matplotlib.pyplot as plt\n",
        "import tensorflow as tf\n",
        "from sklearn.metrics import mean_squared_error, mean_absolute_error\n",
        "import warnings\n",
        "# warnings.filterwarnings('ignore')"
      ]
    },
    {
      "cell_type": "code",
      "source": [
        "from google.colab import drive #connecting google drive with Database of the project\n",
        "drive.mount('/content/drive')"
      ],
      "metadata": {
        "colab": {
          "base_uri": "https://localhost:8080/"
        },
        "id": "j7haJgt47E78",
        "outputId": "8c2e0e2c-018b-425b-996d-a13e526d154c"
      },
      "execution_count": 3,
      "outputs": [
        {
          "output_type": "stream",
          "name": "stdout",
          "text": [
            "Mounted at /content/drive\n"
          ]
        }
      ]
    },
    {
      "cell_type": "code",
      "source": [
        "# Importing the csv made in data preprocessing stage\n",
        "ETH = pd.read_csv(\"/content/drive/MyDrive/Database/ETH-preprocessed.csv\")\n",
        "ETH.sort_values(by = 'Date', ascending = False, inplace = True) #sorting it so on the top are the most recent dates\n",
        "ETH.head()"
      ],
      "metadata": {
        "colab": {
          "base_uri": "https://localhost:8080/",
          "height": 204
        },
        "id": "BZE-CxGO5fcc",
        "outputId": "3e3bc8d6-bb5c-472f-cd79-94f93761eedf"
      },
      "execution_count": 9,
      "outputs": [
        {
          "output_type": "execute_result",
          "data": {
            "text/plain": [
              "      Unnamed: 0        Date         Open         High          Low  \\\n",
              "1826        1826  2022-11-19  1212.237305  1212.237305  1200.975830   \n",
              "1825        1825  2022-11-18  1200.802124  1226.737427  1200.802124   \n",
              "1824        1824  2022-11-17  1215.848633  1224.965698  1189.152710   \n",
              "1823        1823  2022-11-16  1251.808838  1264.486328  1192.987793   \n",
              "1822        1822  2022-11-15  1241.677734  1283.198730  1238.688232   \n",
              "\n",
              "            Close    Adj Close        Volume  \n",
              "1826  1208.045654  1208.045654  6.361960e+09  \n",
              "1825  1212.300293  1212.300293  7.979913e+09  \n",
              "1824  1200.808594  1200.808594  9.723647e+09  \n",
              "1823  1215.602539  1215.602539  1.193956e+10  \n",
              "1822  1251.736206  1251.736206  1.179801e+10  "
            ],
            "text/html": [
              "\n",
              "  <div id=\"df-8fc6c640-7704-4ab9-9ae8-c8654135e116\">\n",
              "    <div class=\"colab-df-container\">\n",
              "      <div>\n",
              "<style scoped>\n",
              "    .dataframe tbody tr th:only-of-type {\n",
              "        vertical-align: middle;\n",
              "    }\n",
              "\n",
              "    .dataframe tbody tr th {\n",
              "        vertical-align: top;\n",
              "    }\n",
              "\n",
              "    .dataframe thead th {\n",
              "        text-align: right;\n",
              "    }\n",
              "</style>\n",
              "<table border=\"1\" class=\"dataframe\">\n",
              "  <thead>\n",
              "    <tr style=\"text-align: right;\">\n",
              "      <th></th>\n",
              "      <th>Unnamed: 0</th>\n",
              "      <th>Date</th>\n",
              "      <th>Open</th>\n",
              "      <th>High</th>\n",
              "      <th>Low</th>\n",
              "      <th>Close</th>\n",
              "      <th>Adj Close</th>\n",
              "      <th>Volume</th>\n",
              "    </tr>\n",
              "  </thead>\n",
              "  <tbody>\n",
              "    <tr>\n",
              "      <th>1826</th>\n",
              "      <td>1826</td>\n",
              "      <td>2022-11-19</td>\n",
              "      <td>1212.237305</td>\n",
              "      <td>1212.237305</td>\n",
              "      <td>1200.975830</td>\n",
              "      <td>1208.045654</td>\n",
              "      <td>1208.045654</td>\n",
              "      <td>6.361960e+09</td>\n",
              "    </tr>\n",
              "    <tr>\n",
              "      <th>1825</th>\n",
              "      <td>1825</td>\n",
              "      <td>2022-11-18</td>\n",
              "      <td>1200.802124</td>\n",
              "      <td>1226.737427</td>\n",
              "      <td>1200.802124</td>\n",
              "      <td>1212.300293</td>\n",
              "      <td>1212.300293</td>\n",
              "      <td>7.979913e+09</td>\n",
              "    </tr>\n",
              "    <tr>\n",
              "      <th>1824</th>\n",
              "      <td>1824</td>\n",
              "      <td>2022-11-17</td>\n",
              "      <td>1215.848633</td>\n",
              "      <td>1224.965698</td>\n",
              "      <td>1189.152710</td>\n",
              "      <td>1200.808594</td>\n",
              "      <td>1200.808594</td>\n",
              "      <td>9.723647e+09</td>\n",
              "    </tr>\n",
              "    <tr>\n",
              "      <th>1823</th>\n",
              "      <td>1823</td>\n",
              "      <td>2022-11-16</td>\n",
              "      <td>1251.808838</td>\n",
              "      <td>1264.486328</td>\n",
              "      <td>1192.987793</td>\n",
              "      <td>1215.602539</td>\n",
              "      <td>1215.602539</td>\n",
              "      <td>1.193956e+10</td>\n",
              "    </tr>\n",
              "    <tr>\n",
              "      <th>1822</th>\n",
              "      <td>1822</td>\n",
              "      <td>2022-11-15</td>\n",
              "      <td>1241.677734</td>\n",
              "      <td>1283.198730</td>\n",
              "      <td>1238.688232</td>\n",
              "      <td>1251.736206</td>\n",
              "      <td>1251.736206</td>\n",
              "      <td>1.179801e+10</td>\n",
              "    </tr>\n",
              "  </tbody>\n",
              "</table>\n",
              "</div>\n",
              "      <button class=\"colab-df-convert\" onclick=\"convertToInteractive('df-8fc6c640-7704-4ab9-9ae8-c8654135e116')\"\n",
              "              title=\"Convert this dataframe to an interactive table.\"\n",
              "              style=\"display:none;\">\n",
              "        \n",
              "  <svg xmlns=\"http://www.w3.org/2000/svg\" height=\"24px\"viewBox=\"0 0 24 24\"\n",
              "       width=\"24px\">\n",
              "    <path d=\"M0 0h24v24H0V0z\" fill=\"none\"/>\n",
              "    <path d=\"M18.56 5.44l.94 2.06.94-2.06 2.06-.94-2.06-.94-.94-2.06-.94 2.06-2.06.94zm-11 1L8.5 8.5l.94-2.06 2.06-.94-2.06-.94L8.5 2.5l-.94 2.06-2.06.94zm10 10l.94 2.06.94-2.06 2.06-.94-2.06-.94-.94-2.06-.94 2.06-2.06.94z\"/><path d=\"M17.41 7.96l-1.37-1.37c-.4-.4-.92-.59-1.43-.59-.52 0-1.04.2-1.43.59L10.3 9.45l-7.72 7.72c-.78.78-.78 2.05 0 2.83L4 21.41c.39.39.9.59 1.41.59.51 0 1.02-.2 1.41-.59l7.78-7.78 2.81-2.81c.8-.78.8-2.07 0-2.86zM5.41 20L4 18.59l7.72-7.72 1.47 1.35L5.41 20z\"/>\n",
              "  </svg>\n",
              "      </button>\n",
              "      \n",
              "  <style>\n",
              "    .colab-df-container {\n",
              "      display:flex;\n",
              "      flex-wrap:wrap;\n",
              "      gap: 12px;\n",
              "    }\n",
              "\n",
              "    .colab-df-convert {\n",
              "      background-color: #E8F0FE;\n",
              "      border: none;\n",
              "      border-radius: 50%;\n",
              "      cursor: pointer;\n",
              "      display: none;\n",
              "      fill: #1967D2;\n",
              "      height: 32px;\n",
              "      padding: 0 0 0 0;\n",
              "      width: 32px;\n",
              "    }\n",
              "\n",
              "    .colab-df-convert:hover {\n",
              "      background-color: #E2EBFA;\n",
              "      box-shadow: 0px 1px 2px rgba(60, 64, 67, 0.3), 0px 1px 3px 1px rgba(60, 64, 67, 0.15);\n",
              "      fill: #174EA6;\n",
              "    }\n",
              "\n",
              "    [theme=dark] .colab-df-convert {\n",
              "      background-color: #3B4455;\n",
              "      fill: #D2E3FC;\n",
              "    }\n",
              "\n",
              "    [theme=dark] .colab-df-convert:hover {\n",
              "      background-color: #434B5C;\n",
              "      box-shadow: 0px 1px 3px 1px rgba(0, 0, 0, 0.15);\n",
              "      filter: drop-shadow(0px 1px 2px rgba(0, 0, 0, 0.3));\n",
              "      fill: #FFFFFF;\n",
              "    }\n",
              "  </style>\n",
              "\n",
              "      <script>\n",
              "        const buttonEl =\n",
              "          document.querySelector('#df-8fc6c640-7704-4ab9-9ae8-c8654135e116 button.colab-df-convert');\n",
              "        buttonEl.style.display =\n",
              "          google.colab.kernel.accessAllowed ? 'block' : 'none';\n",
              "\n",
              "        async function convertToInteractive(key) {\n",
              "          const element = document.querySelector('#df-8fc6c640-7704-4ab9-9ae8-c8654135e116');\n",
              "          const dataTable =\n",
              "            await google.colab.kernel.invokeFunction('convertToInteractive',\n",
              "                                                     [key], {});\n",
              "          if (!dataTable) return;\n",
              "\n",
              "          const docLinkHtml = 'Like what you see? Visit the ' +\n",
              "            '<a target=\"_blank\" href=https://colab.research.google.com/notebooks/data_table.ipynb>data table notebook</a>'\n",
              "            + ' to learn more about interactive tables.';\n",
              "          element.innerHTML = '';\n",
              "          dataTable['output_type'] = 'display_data';\n",
              "          await google.colab.output.renderOutput(dataTable, element);\n",
              "          const docLink = document.createElement('div');\n",
              "          docLink.innerHTML = docLinkHtml;\n",
              "          element.appendChild(docLink);\n",
              "        }\n",
              "      </script>\n",
              "    </div>\n",
              "  </div>\n",
              "  "
            ]
          },
          "metadata": {},
          "execution_count": 9
        }
      ]
    },
    {
      "cell_type": "markdown",
      "source": [
        "Data Processing"
      ],
      "metadata": {
        "id": "XPp0aSAy7Zja"
      }
    },
    {
      "cell_type": "code",
      "source": [
        "def Dataset(Data, Date): #function for creation of traning and testing datasets for the models\n",
        "\n",
        "  Train_Data = Data['Close'][Data['Date'] < Date].to_numpy() #taking data after the given date\n",
        "  TrainingData = []\n",
        "  TrainingDataX = []\n",
        "  TrainingDataY = []\n",
        "\n",
        "  for i in range(0, len(Train_Data), 10):\n",
        "    try:\n",
        "      TrainingData.append(Train_Data[i:i+10])\n",
        "    except:\n",
        "      pass\n",
        "\n",
        "  if len(TrainingData[-1]) < 10:\n",
        "    TrainingData.pop(-1)"
      ],
      "metadata": {
        "id": "5o_Xyg7L7cu3"
      },
      "execution_count": 6,
      "outputs": []
    }
  ]
}