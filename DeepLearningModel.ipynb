{
  "nbformat": 4,
  "nbformat_minor": 0,
  "metadata": {
    "colab": {
      "provenance": [],
      "authorship_tag": "ABX9TyN6xvbxTjKiIqOVAQ8IcIAH",
      "include_colab_link": true
    },
    "kernelspec": {
      "name": "python3",
      "display_name": "Python 3"
    },
    "language_info": {
      "name": "python"
    }
  },
  "cells": [
    {
      "cell_type": "markdown",
      "metadata": {
        "id": "view-in-github",
        "colab_type": "text"
      },
      "source": [
        "<a href=\"https://colab.research.google.com/github/Ilia-Gershen/TYP-project/blob/main/DeepLearningModel.ipynb\" target=\"_parent\"><img src=\"https://colab.research.google.com/assets/colab-badge.svg\" alt=\"Open In Colab\"/></a>"
      ]
    },
    {
      "cell_type": "markdown",
      "source": [
        "# Deep Learning Model:\n",
        "\n",
        "\n",
        "1.   Fuction Dataset for data separation into test and train\n",
        "2.   Creation of the Model\n",
        "\n"
      ],
      "metadata": {
        "id": "D5L2JqFMOZyg"
      }
    },
    {
      "cell_type": "markdown",
      "source": [
        "## Importing libraries and data from google drive\n"
      ],
      "metadata": {
        "id": "7KBLhnntod8X"
      }
    },
    {
      "cell_type": "code",
      "execution_count": 4,
      "metadata": {
        "id": "VdKwJx2T4BaB"
      },
      "outputs": [],
      "source": [
        "import math\n",
        "import numpy as np\n",
        "import pandas as pd\n",
        "import matplotlib.pyplot as plt\n",
        "import tensorflow as tf\n",
        "from sklearn.metrics import mean_squared_error, mean_absolute_error\n",
        "import warnings\n",
        "# warnings.filterwarnings('ignore')"
      ]
    },
    {
      "cell_type": "code",
      "source": [
        "from google.colab import drive #connecting google drive with Database of the project\n",
        "drive.mount('/content/drive')"
      ],
      "metadata": {
        "colab": {
          "base_uri": "https://localhost:8080/"
        },
        "id": "j7haJgt47E78",
        "outputId": "8642b600-f32b-4ea8-e299-9f710ba85b6a"
      },
      "execution_count": 5,
      "outputs": [
        {
          "output_type": "stream",
          "name": "stdout",
          "text": [
            "Mounted at /content/drive\n"
          ]
        }
      ]
    },
    {
      "cell_type": "code",
      "source": [
        "# Importing the csv made in data preprocessing stage\n",
        "ETH = pd.read_csv(\"/content/drive/MyDrive/Database/ETH-preprocessed.csv\")\n",
        "#ETH.sort_values(by = 'Date', ascending = False, inplace = True) #sorting it so on the top are the most recent dates\n",
        "ETH.head()"
      ],
      "metadata": {
        "colab": {
          "base_uri": "https://localhost:8080/",
          "height": 204
        },
        "id": "BZE-CxGO5fcc",
        "outputId": "263e8b49-8a08-47b6-bd03-a3ee5b4304b8"
      },
      "execution_count": 6,
      "outputs": [
        {
          "output_type": "execute_result",
          "data": {
            "text/plain": [
              "   Unnamed: 0        Date        Open        High         Low       Close  \\\n",
              "0           0  2017-11-19  347.401001  371.290985  344.739990  354.385986   \n",
              "1           1  2017-11-20  354.093994  372.136993  353.289001  366.730011   \n",
              "2           2  2017-11-21  367.442993  372.470001  350.692993  360.401001   \n",
              "3           3  2017-11-22  360.312012  381.420013  360.147003  380.652008   \n",
              "4           4  2017-11-23  381.438995  425.548004  376.088013  410.165985   \n",
              "\n",
              "    Adj Close        Volume  \n",
              "0  354.385986  1.181530e+09  \n",
              "1  366.730011  8.070270e+08  \n",
              "2  360.401001  9.499120e+08  \n",
              "3  380.652008  8.008190e+08  \n",
              "4  410.165985  1.845680e+09  "
            ],
            "text/html": [
              "\n",
              "  <div id=\"df-079a40f9-618d-430d-b5a8-d2a969a31364\">\n",
              "    <div class=\"colab-df-container\">\n",
              "      <div>\n",
              "<style scoped>\n",
              "    .dataframe tbody tr th:only-of-type {\n",
              "        vertical-align: middle;\n",
              "    }\n",
              "\n",
              "    .dataframe tbody tr th {\n",
              "        vertical-align: top;\n",
              "    }\n",
              "\n",
              "    .dataframe thead th {\n",
              "        text-align: right;\n",
              "    }\n",
              "</style>\n",
              "<table border=\"1\" class=\"dataframe\">\n",
              "  <thead>\n",
              "    <tr style=\"text-align: right;\">\n",
              "      <th></th>\n",
              "      <th>Unnamed: 0</th>\n",
              "      <th>Date</th>\n",
              "      <th>Open</th>\n",
              "      <th>High</th>\n",
              "      <th>Low</th>\n",
              "      <th>Close</th>\n",
              "      <th>Adj Close</th>\n",
              "      <th>Volume</th>\n",
              "    </tr>\n",
              "  </thead>\n",
              "  <tbody>\n",
              "    <tr>\n",
              "      <th>0</th>\n",
              "      <td>0</td>\n",
              "      <td>2017-11-19</td>\n",
              "      <td>347.401001</td>\n",
              "      <td>371.290985</td>\n",
              "      <td>344.739990</td>\n",
              "      <td>354.385986</td>\n",
              "      <td>354.385986</td>\n",
              "      <td>1.181530e+09</td>\n",
              "    </tr>\n",
              "    <tr>\n",
              "      <th>1</th>\n",
              "      <td>1</td>\n",
              "      <td>2017-11-20</td>\n",
              "      <td>354.093994</td>\n",
              "      <td>372.136993</td>\n",
              "      <td>353.289001</td>\n",
              "      <td>366.730011</td>\n",
              "      <td>366.730011</td>\n",
              "      <td>8.070270e+08</td>\n",
              "    </tr>\n",
              "    <tr>\n",
              "      <th>2</th>\n",
              "      <td>2</td>\n",
              "      <td>2017-11-21</td>\n",
              "      <td>367.442993</td>\n",
              "      <td>372.470001</td>\n",
              "      <td>350.692993</td>\n",
              "      <td>360.401001</td>\n",
              "      <td>360.401001</td>\n",
              "      <td>9.499120e+08</td>\n",
              "    </tr>\n",
              "    <tr>\n",
              "      <th>3</th>\n",
              "      <td>3</td>\n",
              "      <td>2017-11-22</td>\n",
              "      <td>360.312012</td>\n",
              "      <td>381.420013</td>\n",
              "      <td>360.147003</td>\n",
              "      <td>380.652008</td>\n",
              "      <td>380.652008</td>\n",
              "      <td>8.008190e+08</td>\n",
              "    </tr>\n",
              "    <tr>\n",
              "      <th>4</th>\n",
              "      <td>4</td>\n",
              "      <td>2017-11-23</td>\n",
              "      <td>381.438995</td>\n",
              "      <td>425.548004</td>\n",
              "      <td>376.088013</td>\n",
              "      <td>410.165985</td>\n",
              "      <td>410.165985</td>\n",
              "      <td>1.845680e+09</td>\n",
              "    </tr>\n",
              "  </tbody>\n",
              "</table>\n",
              "</div>\n",
              "      <button class=\"colab-df-convert\" onclick=\"convertToInteractive('df-079a40f9-618d-430d-b5a8-d2a969a31364')\"\n",
              "              title=\"Convert this dataframe to an interactive table.\"\n",
              "              style=\"display:none;\">\n",
              "        \n",
              "  <svg xmlns=\"http://www.w3.org/2000/svg\" height=\"24px\"viewBox=\"0 0 24 24\"\n",
              "       width=\"24px\">\n",
              "    <path d=\"M0 0h24v24H0V0z\" fill=\"none\"/>\n",
              "    <path d=\"M18.56 5.44l.94 2.06.94-2.06 2.06-.94-2.06-.94-.94-2.06-.94 2.06-2.06.94zm-11 1L8.5 8.5l.94-2.06 2.06-.94-2.06-.94L8.5 2.5l-.94 2.06-2.06.94zm10 10l.94 2.06.94-2.06 2.06-.94-2.06-.94-.94-2.06-.94 2.06-2.06.94z\"/><path d=\"M17.41 7.96l-1.37-1.37c-.4-.4-.92-.59-1.43-.59-.52 0-1.04.2-1.43.59L10.3 9.45l-7.72 7.72c-.78.78-.78 2.05 0 2.83L4 21.41c.39.39.9.59 1.41.59.51 0 1.02-.2 1.41-.59l7.78-7.78 2.81-2.81c.8-.78.8-2.07 0-2.86zM5.41 20L4 18.59l7.72-7.72 1.47 1.35L5.41 20z\"/>\n",
              "  </svg>\n",
              "      </button>\n",
              "      \n",
              "  <style>\n",
              "    .colab-df-container {\n",
              "      display:flex;\n",
              "      flex-wrap:wrap;\n",
              "      gap: 12px;\n",
              "    }\n",
              "\n",
              "    .colab-df-convert {\n",
              "      background-color: #E8F0FE;\n",
              "      border: none;\n",
              "      border-radius: 50%;\n",
              "      cursor: pointer;\n",
              "      display: none;\n",
              "      fill: #1967D2;\n",
              "      height: 32px;\n",
              "      padding: 0 0 0 0;\n",
              "      width: 32px;\n",
              "    }\n",
              "\n",
              "    .colab-df-convert:hover {\n",
              "      background-color: #E2EBFA;\n",
              "      box-shadow: 0px 1px 2px rgba(60, 64, 67, 0.3), 0px 1px 3px 1px rgba(60, 64, 67, 0.15);\n",
              "      fill: #174EA6;\n",
              "    }\n",
              "\n",
              "    [theme=dark] .colab-df-convert {\n",
              "      background-color: #3B4455;\n",
              "      fill: #D2E3FC;\n",
              "    }\n",
              "\n",
              "    [theme=dark] .colab-df-convert:hover {\n",
              "      background-color: #434B5C;\n",
              "      box-shadow: 0px 1px 3px 1px rgba(0, 0, 0, 0.15);\n",
              "      filter: drop-shadow(0px 1px 2px rgba(0, 0, 0, 0.3));\n",
              "      fill: #FFFFFF;\n",
              "    }\n",
              "  </style>\n",
              "\n",
              "      <script>\n",
              "        const buttonEl =\n",
              "          document.querySelector('#df-079a40f9-618d-430d-b5a8-d2a969a31364 button.colab-df-convert');\n",
              "        buttonEl.style.display =\n",
              "          google.colab.kernel.accessAllowed ? 'block' : 'none';\n",
              "\n",
              "        async function convertToInteractive(key) {\n",
              "          const element = document.querySelector('#df-079a40f9-618d-430d-b5a8-d2a969a31364');\n",
              "          const dataTable =\n",
              "            await google.colab.kernel.invokeFunction('convertToInteractive',\n",
              "                                                     [key], {});\n",
              "          if (!dataTable) return;\n",
              "\n",
              "          const docLinkHtml = 'Like what you see? Visit the ' +\n",
              "            '<a target=\"_blank\" href=https://colab.research.google.com/notebooks/data_table.ipynb>data table notebook</a>'\n",
              "            + ' to learn more about interactive tables.';\n",
              "          element.innerHTML = '';\n",
              "          dataTable['output_type'] = 'display_data';\n",
              "          await google.colab.output.renderOutput(dataTable, element);\n",
              "          const docLink = document.createElement('div');\n",
              "          docLink.innerHTML = docLinkHtml;\n",
              "          element.appendChild(docLink);\n",
              "        }\n",
              "      </script>\n",
              "    </div>\n",
              "  </div>\n",
              "  "
            ]
          },
          "metadata": {},
          "execution_count": 6
        }
      ]
    },
    {
      "cell_type": "markdown",
      "source": [
        "## Data Processing"
      ],
      "metadata": {
        "id": "XPp0aSAy7Zja"
      }
    },
    {
      "cell_type": "code",
      "source": [
        "def Dataset(Data, Date): #function for creation of traning and testing datasets for the models\n",
        "\n",
        "  #Data for Training \n",
        "  Train_Data = Data['Close'][Data['Date'] < Date].to_numpy() #taking data befor the given date\n",
        "  TrainingData = []\n",
        "  TrainingDataX = []\n",
        "  TrainingDataY = []\n",
        "\n",
        "  for i in range(0, len(Train_Data), 7): #putting in close values data in form of weeks aka 7 days\n",
        "    try:\n",
        "      TrainingData.append(Train_Data[i:i+7]) #array of arrays of 7 close prices\n",
        "    except:\n",
        "      pass\n",
        "\n",
        "  if len(TrainingData[-1]) < 7: #If last week is less then 7 days we remove last week\n",
        "    TrainingData.pop(-1)\n",
        "\n",
        "  TrainingDataX = TrainingData[0 : -1] # converting to np array\n",
        "  TrainingDataX = np.array(TrainingDataX)\n",
        "  TrainingDataX = TrainingDataX.reshape((-1, 7, 1)) #split into groups of 7 \n",
        "\n",
        "  TrainingDataY = TrainingData[1:len(TrainingData)] # converting to np array\n",
        "  TrainingDataY = np.array(TrainingDataY)\n",
        "  TrainingDataY = TrainingDataY.reshape((-1, 7, 1)) # split into groups of 7 and keep the order\n",
        "\n",
        "  #Data for Testing\n",
        "  Test_Data = Data['Close'][Data['Date'] >= Date].to_numpy() #taking data from given date to latest date\n",
        "  TestData = []\n",
        "  TestDataX = []\n",
        "  TestDataY = []\n",
        "\n",
        "  for i in range(0, len(Test_Data), 7):\n",
        "    try:\n",
        "      TestData.append(Test_Data[i : i + 7])\n",
        "    except:\n",
        "      pass\n",
        "\n",
        "  if len(TestData[-1]) < 7:\n",
        "    TestData.pop(-1)\n",
        "\n",
        "  TestDataX = TestData[0 : -1]\n",
        "  TestDataX = np.array(TestDataX)\n",
        "  TestDataX = TestDataX.reshape((-1, 7, 1))\n",
        "\n",
        "  TestDataY = TestData[1 : len(TestData)]\n",
        "  TestDataY = np.array(TestDataY)\n",
        "  TestDataY = TestDataY.reshape((-1, 7, 1))\n",
        " \n",
        "  return TrainingDataX, TrainingDataY, TestDataX, TestDataY\n"
      ],
      "metadata": {
        "id": "5o_Xyg7L7cu3"
      },
      "execution_count": 7,
      "outputs": []
    },
    {
      "cell_type": "markdown",
      "source": [
        "## Model creation and testing"
      ],
      "metadata": {
        "id": "0aJh7EyuNlhC"
      }
    },
    {
      "cell_type": "markdown",
      "source": [
        "### LSTM - GRU model\n"
      ],
      "metadata": {
        "id": "xOoInlaKowR7"
      }
    },
    {
      "cell_type": "code",
      "source": [
        "def Model():\n",
        "\n",
        "  model = tf.keras.models.Sequential([ #input shape first number is number of days we will predict and second one is number of purumenters use for prediction\n",
        "      tf.keras.layers.LSTM(200, input_shape = (7,1), activation = tf.nn.leaky_relu, return_sequences = True),\n",
        "      tf.keras.layers.GRU(200, activation = tf.nn.leaky_relu), #or make in 150 if it will not work\n",
        "      tf.keras.layers.Dense(100, activation = tf.nn.leaky_relu),\n",
        "      tf.keras.layers.Dense(50, activation = tf.nn.leaky_relu),\n",
        "      tf.keras.layers.Dense(7, activation = tf.nn.leaky_relu)\n",
        "  ])\n",
        "\n",
        "  return model"
      ],
      "metadata": {
        "id": "McLkgjGjNkR5"
      },
      "execution_count": 8,
      "outputs": []
    },
    {
      "cell_type": "code",
      "source": [
        "model = Model()\n",
        "\n",
        "model.summary()"
      ],
      "metadata": {
        "colab": {
          "base_uri": "https://localhost:8080/"
        },
        "id": "W45q9Gl9HEkM",
        "outputId": "e4923da8-1acc-4455-ff10-f5eab7a50f47"
      },
      "execution_count": 9,
      "outputs": [
        {
          "output_type": "stream",
          "name": "stdout",
          "text": [
            "Model: \"sequential\"\n",
            "_________________________________________________________________\n",
            " Layer (type)                Output Shape              Param #   \n",
            "=================================================================\n",
            " lstm (LSTM)                 (None, 7, 200)            161600    \n",
            "                                                                 \n",
            " gru (GRU)                   (None, 200)               241200    \n",
            "                                                                 \n",
            " dense (Dense)               (None, 100)               20100     \n",
            "                                                                 \n",
            " dense_1 (Dense)             (None, 50)                5050      \n",
            "                                                                 \n",
            " dense_2 (Dense)             (None, 7)                 357       \n",
            "                                                                 \n",
            "=================================================================\n",
            "Total params: 428,307\n",
            "Trainable params: 428,307\n",
            "Non-trainable params: 0\n",
            "_________________________________________________________________\n"
          ]
        }
      ]
    },
    {
      "cell_type": "markdown",
      "source": [
        "#### Learning Rate"
      ],
      "metadata": {
        "id": "V5lttdVZIxvD"
      }
    },
    {
      "cell_type": "code",
      "source": [
        "def scheduler(epoch):\n",
        "  #if epoch <= 150:\n",
        "  #  lrate = (10 ** -5) * (epoch / 150)\n",
        "  #elif epoch <= 400:\n",
        "  #  initialLrate = (10 ** -5)\n",
        "  #  k = 0.01\n",
        "  #  lrate = initialLrate * math.exp(-k * (epoch - 150))\n",
        "  #else:\n",
        "  #  lrate = (10 ** -6)\n",
        "  #lrate = 10 ** -6\n",
        "  #if epoch < 300:\n",
        "  #  lrate = 0.06 * (10 ** -5)\n",
        "  #elif epoch <600:\n",
        "  #  lrate = 0.66 * (10 ** -5)\n",
        "  #else:\n",
        "  #  lrate = 1.1 * (10 ** -5)\n",
        "  if epoch <= 100:\n",
        "    lrate = epoch * (10 ** -6)\n",
        "  else:\n",
        "    lrate = 0.00001\n",
        "  return lrate"
      ],
      "metadata": {
        "id": "_CPoB0MXIVoH"
      },
      "execution_count": 46,
      "outputs": []
    },
    {
      "cell_type": "code",
      "source": [
        "epoch = [i for i in range(1, 1001)]\n",
        "lrate = [scheduler(i) for i in range(1, 1001)]\n",
        "plt.plot(epoch, lrate)"
      ],
      "metadata": {
        "colab": {
          "base_uri": "https://localhost:8080/",
          "height": 282
        },
        "id": "z5m71DvaOIqE",
        "outputId": "00f32f23-f0d7-49cd-8ddb-43019633b7ae"
      },
      "execution_count": 47,
      "outputs": [
        {
          "output_type": "execute_result",
          "data": {
            "text/plain": [
              "[<matplotlib.lines.Line2D at 0x7fe0fba5df70>]"
            ]
          },
          "metadata": {},
          "execution_count": 47
        },
        {
          "output_type": "display_data",
          "data": {
            "text/plain": [
              "<Figure size 432x288 with 1 Axes>"
            ],
            "image/png": "[encoded data removed]"
          },
          "metadata": {
            "needs_background": "light"
          }
        }
      ]
    },
    {
      "cell_type": "code",
      "source": [
        "callback = tf.keras.callbacks.LearningRateScheduler(scheduler)"
      ],
      "metadata": {
        "id": "I7EjscxMOmh3"
      },
      "execution_count": 48,
      "outputs": []
    },
    {
      "cell_type": "code",
      "source": [
        "ETH.info()"
      ],
      "metadata": {
        "colab": {
          "base_uri": "https://localhost:8080/"
        },
        "id": "idXWuMdjO1IV",
        "outputId": "92dd799b-9aa1-47ec-abef-b939b3d7ea6e"
      },
      "execution_count": 49,
      "outputs": [
        {
          "output_type": "stream",
          "name": "stdout",
          "text": [
            "<class 'pandas.core.frame.DataFrame'>\n",
            "RangeIndex: 1827 entries, 0 to 1826\n",
            "Data columns (total 8 columns):\n",
            " #   Column      Non-Null Count  Dtype         \n",
            "---  ------      --------------  -----         \n",
            " 0   Unnamed: 0  1827 non-null   int64         \n",
            " 1   Date        1827 non-null   datetime64[ns]\n",
            " 2   Open        1827 non-null   float64       \n",
            " 3   High        1827 non-null   float64       \n",
            " 4   Low         1827 non-null   float64       \n",
            " 5   Close       1827 non-null   float64       \n",
            " 6   Adj Close   1827 non-null   float64       \n",
            " 7   Volume      1827 non-null   float64       \n",
            "dtypes: datetime64[ns](1), float64(6), int64(1)\n",
            "memory usage: 114.3 KB\n"
          ]
        }
      ]
    },
    {
      "cell_type": "code",
      "source": [
        "ETH[\"Date\"] = pd.to_datetime(ETH[\"Date\"])"
      ],
      "metadata": {
        "id": "IPrHjtYnQk7m"
      },
      "execution_count": 50,
      "outputs": []
    },
    {
      "cell_type": "markdown",
      "source": [
        "#### Split Data into Training and Testing sets\n",
        "\n",
        "\n",
        "*   Training Period: 2017-11-19 to 2021-11-19\n",
        "*   Testing Period: 2021-11-20 to 2022-11-19\n",
        "\n"
      ],
      "metadata": {
        "id": "XUTCaVXdRHtm"
      }
    },
    {
      "cell_type": "code",
      "source": [
        "ETH_Train_X, ETH_Train_Y, ETH_Test_X, ETH_Test_Y = Dataset(ETH, '2021-11-20')"
      ],
      "metadata": {
        "id": "KXjxKHvcRLg1"
      },
      "execution_count": 51,
      "outputs": []
    },
    {
      "cell_type": "markdown",
      "source": [
        "#### Model Fitting"
      ],
      "metadata": {
        "id": "4euSFfHdTOQG"
      }
    },
    {
      "cell_type": "code",
      "source": [
        "ETH_Model = Model()"
      ],
      "metadata": {
        "id": "NXaqu06_TQhJ"
      },
      "execution_count": 52,
      "outputs": []
    },
    {
      "cell_type": "code",
      "source": [
        "ETH_Model.compile(optimizer = tf.keras.optimizers.Adam(), loss = 'mse', metrics = tf.keras.metrics.RootMeanSquaredError())"
      ],
      "metadata": {
        "id": "dLh05NPCUHgk"
      },
      "execution_count": 53,
      "outputs": []
    },
    {
      "cell_type": "code",
      "source": [
        "ETH_hist = ETH_Model.fit(ETH_Train_X, ETH_Train_Y, epochs = 200, validation_data = (ETH_Test_X, ETH_Test_Y), callbacks = [callback])"
      ],
      "metadata": {
        "id": "LW9LTn0mUr3Q",
        "colab": {
          "base_uri": "https://localhost:8080/"
        },
        "outputId": "d1ac0003-488a-4a7f-eee9-e4d8be1d2746"
      },
      "execution_count": 54,
      "outputs": [
        {
          "output_type": "stream",
          "name": "stdout",
          "text": [
            "Epoch 1/200\n",
            "7/7 [==============================] - 3s 112ms/step - loss: 1751429.3750 - root_mean_squared_error: 1323.4158 - val_loss: 6045353.0000 - val_root_mean_squared_error: 2458.7297 - lr: 0.0000e+00\n",
            "Epoch 2/200\n",
            "7/7 [==============================] - 0s 49ms/step - loss: 1751237.6250 - root_mean_squared_error: 1323.3433 - val_loss: 6044226.0000 - val_root_mean_squared_error: 2458.5007 - lr: 1.0000e-06\n",
            "Epoch 3/200\n",
            "7/7 [==============================] - 0s 49ms/step - loss: 1750647.3750 - root_mean_squared_error: 1323.1204 - val_loss: 6041390.0000 - val_root_mean_squared_error: 2457.9238 - lr: 2.0000e-06\n",
            "Epoch 4/200\n",
            "7/7 [==============================] - 0s 46ms/step - loss: 1749898.6250 - root_mean_squared_error: 1322.8374 - val_loss: 6037324.0000 - val_root_mean_squared_error: 2457.0967 - lr: 3.0000e-06\n",
            "Epoch 5/200\n",
            "7/7 [==============================] - 0s 50ms/step - loss: 1748739.5000 - root_mean_squared_error: 1322.3992 - val_loss: 6032153.0000 - val_root_mean_squared_error: 2456.0442 - lr: 4.0000e-06\n",
            "Epoch 6/200\n",
            "7/7 [==============================] - 0s 52ms/step - loss: 1747257.2500 - root_mean_squared_error: 1321.8386 - val_loss: 6026037.5000 - val_root_mean_squared_error: 2454.7988 - lr: 5.0000e-06\n",
            "Epoch 7/200\n",
            "7/7 [==============================] - 0s 51ms/step - loss: 1745216.2500 - root_mean_squared_error: 1321.0663 - val_loss: 6018233.0000 - val_root_mean_squared_error: 2453.2087 - lr: 6.0000e-06\n",
            "Epoch 8/200\n",
            "7/7 [==============================] - 0s 48ms/step - loss: 1742391.5000 - root_mean_squared_error: 1319.9967 - val_loss: 6007742.5000 - val_root_mean_squared_error: 2451.0696 - lr: 7.0000e-06\n",
            "Epoch 9/200\n",
            "7/7 [==============================] - 0s 49ms/step - loss: 1739146.6250 - root_mean_squared_error: 1318.7671 - val_loss: 5992319.5000 - val_root_mean_squared_error: 2447.9214 - lr: 8.0000e-06\n",
            "Epoch 10/200\n",
            "7/7 [==============================] - 0s 49ms/step - loss: 1735290.1250 - root_mean_squared_error: 1317.3041 - val_loss: 5976878.5000 - val_root_mean_squared_error: 2444.7656 - lr: 9.0000e-06\n",
            "Epoch 11/200\n",
            "7/7 [==============================] - 0s 51ms/step - loss: 1731367.0000 - root_mean_squared_error: 1315.8142 - val_loss: 5959505.0000 - val_root_mean_squared_error: 2441.2097 - lr: 1.0000e-05\n",
            "Epoch 12/200\n",
            "7/7 [==============================] - 0s 51ms/step - loss: 1726728.6250 - root_mean_squared_error: 1314.0504 - val_loss: 5941770.0000 - val_root_mean_squared_error: 2437.5745 - lr: 1.1000e-05\n",
            "Epoch 13/200\n",
            "7/7 [==============================] - 0s 49ms/step - loss: 1720914.5000 - root_mean_squared_error: 1311.8363 - val_loss: 5921806.0000 - val_root_mean_squared_error: 2433.4761 - lr: 1.2000e-05\n",
            "Epoch 14/200\n",
            "7/7 [==============================] - 0s 50ms/step - loss: 1715953.7500 - root_mean_squared_error: 1309.9442 - val_loss: 5900418.5000 - val_root_mean_squared_error: 2429.0776 - lr: 1.3000e-05\n",
            "Epoch 15/200\n",
            "7/7 [==============================] - 0s 49ms/step - loss: 1710096.8750 - root_mean_squared_error: 1307.7068 - val_loss: 5880419.0000 - val_root_mean_squared_error: 2424.9575 - lr: 1.4000e-05\n",
            "Epoch 16/200\n",
            "7/7 [==============================] - 0s 49ms/step - loss: 1704821.1250 - root_mean_squared_error: 1305.6880 - val_loss: 5858646.5000 - val_root_mean_squared_error: 2420.4641 - lr: 1.5000e-05\n",
            "Epoch 17/200\n",
            "7/7 [==============================] - 0s 49ms/step - loss: 1698706.2500 - root_mean_squared_error: 1303.3444 - val_loss: 5837302.0000 - val_root_mean_squared_error: 2416.0510 - lr: 1.6000e-05\n",
            "Epoch 18/200\n",
            "7/7 [==============================] - 0s 51ms/step - loss: 1692260.7500 - root_mean_squared_error: 1300.8693 - val_loss: 5813832.0000 - val_root_mean_squared_error: 2411.1887 - lr: 1.7000e-05\n",
            "Epoch 19/200\n",
            "7/7 [==============================] - 0s 51ms/step - loss: 1685721.5000 - root_mean_squared_error: 1298.3534 - val_loss: 5786158.5000 - val_root_mean_squared_error: 2405.4436 - lr: 1.8000e-05\n",
            "Epoch 20/200\n",
            "7/7 [==============================] - 0s 51ms/step - loss: 1678021.3750 - root_mean_squared_error: 1295.3848 - val_loss: 5754417.5000 - val_root_mean_squared_error: 2398.8367 - lr: 1.9000e-05\n",
            "Epoch 21/200\n",
            "7/7 [==============================] - 0s 51ms/step - loss: 1668144.8750 - root_mean_squared_error: 1291.5668 - val_loss: 5716012.0000 - val_root_mean_squared_error: 2390.8184 - lr: 2.0000e-05\n",
            "Epoch 22/200\n",
            "7/7 [==============================] - 0s 48ms/step - loss: 1654576.1250 - root_mean_squared_error: 1286.3033 - val_loss: 5664070.5000 - val_root_mean_squared_error: 2379.9309 - lr: 2.1000e-05\n",
            "Epoch 23/200\n",
            "7/7 [==============================] - 0s 50ms/step - loss: 1638738.2500 - root_mean_squared_error: 1280.1321 - val_loss: 5605067.5000 - val_root_mean_squared_error: 2367.5022 - lr: 2.2000e-05\n",
            "Epoch 24/200\n",
            "7/7 [==============================] - 0s 49ms/step - loss: 1617472.0000 - root_mean_squared_error: 1271.7987 - val_loss: 5506243.0000 - val_root_mean_squared_error: 2346.5386 - lr: 2.3000e-05\n",
            "Epoch 25/200\n",
            "7/7 [==============================] - 0s 51ms/step - loss: 1587491.2500 - root_mean_squared_error: 1259.9569 - val_loss: 5371966.0000 - val_root_mean_squared_error: 2317.7500 - lr: 2.4000e-05\n",
            "Epoch 26/200\n",
            "7/7 [==============================] - 0s 52ms/step - loss: 1554412.0000 - root_mean_squared_error: 1246.7606 - val_loss: 5207758.5000 - val_root_mean_squared_error: 2282.0513 - lr: 2.5000e-05\n",
            "Epoch 27/200\n",
            "7/7 [==============================] - 0s 54ms/step - loss: 1510945.2500 - root_mean_squared_error: 1229.2051 - val_loss: 5055086.5000 - val_root_mean_squared_error: 2248.3521 - lr: 2.6000e-05\n",
            "Epoch 28/200\n",
            "7/7 [==============================] - 0s 50ms/step - loss: 1458757.8750 - root_mean_squared_error: 1207.7904 - val_loss: 4857981.0000 - val_root_mean_squared_error: 2204.0830 - lr: 2.7000e-05\n",
            "Epoch 29/200\n",
            "7/7 [==============================] - 0s 51ms/step - loss: 1405516.5000 - root_mean_squared_error: 1185.5448 - val_loss: 4661547.0000 - val_root_mean_squared_error: 2159.0618 - lr: 2.8000e-05\n",
            "Epoch 30/200\n",
            "7/7 [==============================] - 0s 48ms/step - loss: 1347374.1250 - root_mean_squared_error: 1160.7644 - val_loss: 4433231.0000 - val_root_mean_squared_error: 2105.5239 - lr: 2.9000e-05\n",
            "Epoch 31/200\n",
            "7/7 [==============================] - 0s 50ms/step - loss: 1283028.7500 - root_mean_squared_error: 1132.7086 - val_loss: 4155261.2500 - val_root_mean_squared_error: 2038.4458 - lr: 3.0000e-05\n",
            "Epoch 32/200\n",
            "7/7 [==============================] - 0s 51ms/step - loss: 1194658.8750 - root_mean_squared_error: 1093.0045 - val_loss: 3852823.2500 - val_root_mean_squared_error: 1962.8611 - lr: 3.1000e-05\n",
            "Epoch 33/200\n",
            "7/7 [==============================] - 0s 49ms/step - loss: 1103882.3750 - root_mean_squared_error: 1050.6581 - val_loss: 3466174.5000 - val_root_mean_squared_error: 1861.7665 - lr: 3.2000e-05\n",
            "Epoch 34/200\n",
            "7/7 [==============================] - 0s 48ms/step - loss: 997062.0000 - root_mean_squared_error: 998.5300 - val_loss: 3034865.0000 - val_root_mean_squared_error: 1742.0864 - lr: 3.3000e-05\n",
            "Epoch 35/200\n",
            "7/7 [==============================] - 0s 52ms/step - loss: 867618.3125 - root_mean_squared_error: 931.4603 - val_loss: 2596907.5000 - val_root_mean_squared_error: 1611.4923 - lr: 3.4000e-05\n",
            "Epoch 36/200\n",
            "7/7 [==============================] - 0s 52ms/step - loss: 744721.3125 - root_mean_squared_error: 862.9724 - val_loss: 2136776.7500 - val_root_mean_squared_error: 1461.7717 - lr: 3.5000e-05\n",
            "Epoch 37/200\n",
            "7/7 [==============================] - 0s 54ms/step - loss: 604606.5625 - root_mean_squared_error: 777.5646 - val_loss: 1714909.5000 - val_root_mean_squared_error: 1309.5455 - lr: 3.6000e-05\n",
            "Epoch 38/200\n",
            "7/7 [==============================] - 0s 49ms/step - loss: 492136.0625 - root_mean_squared_error: 701.5241 - val_loss: 1421082.5000 - val_root_mean_squared_error: 1192.0916 - lr: 3.7000e-05\n",
            "Epoch 39/200\n",
            "7/7 [==============================] - 0s 47ms/step - loss: 412488.8125 - root_mean_squared_error: 642.2529 - val_loss: 1229411.8750 - val_root_mean_squared_error: 1108.7886 - lr: 3.8000e-05\n",
            "Epoch 40/200\n",
            "7/7 [==============================] - 0s 50ms/step - loss: 348719.0625 - root_mean_squared_error: 590.5244 - val_loss: 994360.5625 - val_root_mean_squared_error: 997.1763 - lr: 3.9000e-05\n",
            "Epoch 41/200\n",
            "7/7 [==============================] - 0s 50ms/step - loss: 276911.3750 - root_mean_squared_error: 526.2237 - val_loss: 768426.5000 - val_root_mean_squared_error: 876.5994 - lr: 4.0000e-05\n",
            "Epoch 42/200\n",
            "7/7 [==============================] - 0s 49ms/step - loss: 215155.4844 - root_mean_squared_error: 463.8486 - val_loss: 582562.6875 - val_root_mean_squared_error: 763.2580 - lr: 4.1000e-05\n",
            "Epoch 43/200\n",
            "7/7 [==============================] - 0s 50ms/step - loss: 157836.4219 - root_mean_squared_error: 397.2863 - val_loss: 401058.1562 - val_root_mean_squared_error: 633.2915 - lr: 4.2000e-05\n",
            "Epoch 44/200\n",
            "7/7 [==============================] - 0s 49ms/step - loss: 119327.0469 - root_mean_squared_error: 345.4375 - val_loss: 275150.3438 - val_root_mean_squared_error: 524.5477 - lr: 4.3000e-05\n",
            "Epoch 45/200\n",
            "7/7 [==============================] - 0s 48ms/step - loss: 89298.8516 - root_mean_squared_error: 298.8291 - val_loss: 202513.6250 - val_root_mean_squared_error: 450.0152 - lr: 4.4000e-05\n",
            "Epoch 46/200\n",
            "7/7 [==============================] - 0s 50ms/step - loss: 66576.0703 - root_mean_squared_error: 258.0234 - val_loss: 159320.4375 - val_root_mean_squared_error: 399.1497 - lr: 4.5000e-05\n",
            "Epoch 47/200\n",
            "7/7 [==============================] - 0s 49ms/step - loss: 53286.3906 - root_mean_squared_error: 230.8385 - val_loss: 124496.8047 - val_root_mean_squared_error: 352.8410 - lr: 4.6000e-05\n",
            "Epoch 48/200\n",
            "7/7 [==============================] - 0s 54ms/step - loss: 44100.9336 - root_mean_squared_error: 210.0022 - val_loss: 110503.3359 - val_root_mean_squared_error: 332.4204 - lr: 4.7000e-05\n",
            "Epoch 49/200\n",
            "7/7 [==============================] - 0s 54ms/step - loss: 38552.1406 - root_mean_squared_error: 196.3470 - val_loss: 80993.9141 - val_root_mean_squared_error: 284.5943 - lr: 4.8000e-05\n",
            "Epoch 50/200\n",
            "7/7 [==============================] - 0s 49ms/step - loss: 33090.8203 - root_mean_squared_error: 181.9088 - val_loss: 81937.4453 - val_root_mean_squared_error: 286.2472 - lr: 4.9000e-05\n",
            "Epoch 51/200\n",
            "7/7 [==============================] - 0s 49ms/step - loss: 32357.4004 - root_mean_squared_error: 179.8816 - val_loss: 83569.9531 - val_root_mean_squared_error: 289.0847 - lr: 5.0000e-05\n",
            "Epoch 52/200\n",
            "7/7 [==============================] - 0s 50ms/step - loss: 30966.2461 - root_mean_squared_error: 175.9723 - val_loss: 67990.2734 - val_root_mean_squared_error: 260.7494 - lr: 5.1000e-05\n",
            "Epoch 53/200\n",
            "7/7 [==============================] - 0s 50ms/step - loss: 29664.4062 - root_mean_squared_error: 172.2336 - val_loss: 69415.9297 - val_root_mean_squared_error: 263.4691 - lr: 5.2000e-05\n",
            "Epoch 54/200\n",
            "7/7 [==============================] - 0s 52ms/step - loss: 25775.2637 - root_mean_squared_error: 160.5468 - val_loss: 65149.8398 - val_root_mean_squared_error: 255.2447 - lr: 5.3000e-05\n",
            "Epoch 55/200\n",
            "7/7 [==============================] - 0s 54ms/step - loss: 25533.5332 - root_mean_squared_error: 159.7922 - val_loss: 61990.6797 - val_root_mean_squared_error: 248.9793 - lr: 5.4000e-05\n",
            "Epoch 56/200\n",
            "7/7 [==============================] - 0s 51ms/step - loss: 24973.2227 - root_mean_squared_error: 158.0292 - val_loss: 56678.1875 - val_root_mean_squared_error: 238.0718 - lr: 5.5000e-05\n",
            "Epoch 57/200\n",
            "7/7 [==============================] - 0s 51ms/step - loss: 24435.1152 - root_mean_squared_error: 156.3174 - val_loss: 55624.7656 - val_root_mean_squared_error: 235.8490 - lr: 5.6000e-05\n",
            "Epoch 58/200\n",
            "7/7 [==============================] - 0s 58ms/step - loss: 23843.8438 - root_mean_squared_error: 154.4145 - val_loss: 57351.2305 - val_root_mean_squared_error: 239.4812 - lr: 5.7000e-05\n",
            "Epoch 59/200\n",
            "7/7 [==============================] - 0s 51ms/step - loss: 24039.5195 - root_mean_squared_error: 155.0468 - val_loss: 54434.1680 - val_root_mean_squared_error: 233.3113 - lr: 5.8000e-05\n",
            "Epoch 60/200\n",
            "7/7 [==============================] - 0s 51ms/step - loss: 23644.0684 - root_mean_squared_error: 153.7663 - val_loss: 59269.6562 - val_root_mean_squared_error: 243.4536 - lr: 5.9000e-05\n",
            "Epoch 61/200\n",
            "7/7 [==============================] - 0s 52ms/step - loss: 26860.3867 - root_mean_squared_error: 163.8914 - val_loss: 60647.0195 - val_root_mean_squared_error: 246.2662 - lr: 6.0000e-05\n",
            "Epoch 62/200\n",
            "7/7 [==============================] - 0s 49ms/step - loss: 26083.0996 - root_mean_squared_error: 161.5026 - val_loss: 61532.9961 - val_root_mean_squared_error: 248.0585 - lr: 6.1000e-05\n",
            "Epoch 63/200\n",
            "7/7 [==============================] - 0s 52ms/step - loss: 21831.4512 - root_mean_squared_error: 147.7547 - val_loss: 51206.5234 - val_root_mean_squared_error: 226.2886 - lr: 6.2000e-05\n",
            "Epoch 64/200\n",
            "7/7 [==============================] - 0s 49ms/step - loss: 22157.3398 - root_mean_squared_error: 148.8534 - val_loss: 49372.3633 - val_root_mean_squared_error: 222.1989 - lr: 6.3000e-05\n",
            "Epoch 65/200\n",
            "7/7 [==============================] - 0s 53ms/step - loss: 22887.0078 - root_mean_squared_error: 151.2845 - val_loss: 52380.9570 - val_root_mean_squared_error: 228.8689 - lr: 6.4000e-05\n",
            "Epoch 66/200\n",
            "7/7 [==============================] - 0s 50ms/step - loss: 21271.5898 - root_mean_squared_error: 145.8478 - val_loss: 58522.6680 - val_root_mean_squared_error: 241.9146 - lr: 6.5000e-05\n",
            "Epoch 67/200\n",
            "7/7 [==============================] - 0s 48ms/step - loss: 21923.2285 - root_mean_squared_error: 148.0649 - val_loss: 80276.8594 - val_root_mean_squared_error: 283.3317 - lr: 6.6000e-05\n",
            "Epoch 68/200\n",
            "7/7 [==============================] - 0s 50ms/step - loss: 23195.0645 - root_mean_squared_error: 152.2993 - val_loss: 67684.7188 - val_root_mean_squared_error: 260.1629 - lr: 6.7000e-05\n",
            "Epoch 69/200\n",
            "7/7 [==============================] - 0s 52ms/step - loss: 25068.6699 - root_mean_squared_error: 158.3309 - val_loss: 69346.1328 - val_root_mean_squared_error: 263.3365 - lr: 6.8000e-05\n",
            "Epoch 70/200\n",
            "7/7 [==============================] - 0s 49ms/step - loss: 24494.7676 - root_mean_squared_error: 156.5080 - val_loss: 88779.4219 - val_root_mean_squared_error: 297.9587 - lr: 6.9000e-05\n",
            "Epoch 71/200\n",
            "7/7 [==============================] - 0s 52ms/step - loss: 23726.0684 - root_mean_squared_error: 154.0327 - val_loss: 79770.3984 - val_root_mean_squared_error: 282.4366 - lr: 7.0000e-05\n",
            "Epoch 72/200\n",
            "7/7 [==============================] - 0s 52ms/step - loss: 22937.2324 - root_mean_squared_error: 151.4504 - val_loss: 76704.7734 - val_root_mean_squared_error: 276.9563 - lr: 7.1000e-05\n",
            "Epoch 73/200\n",
            "7/7 [==============================] - 0s 50ms/step - loss: 22480.0078 - root_mean_squared_error: 149.9333 - val_loss: 68517.2031 - val_root_mean_squared_error: 261.7579 - lr: 7.2000e-05\n",
            "Epoch 74/200\n",
            "7/7 [==============================] - 0s 49ms/step - loss: 22396.2461 - root_mean_squared_error: 149.6537 - val_loss: 65686.2266 - val_root_mean_squared_error: 256.2932 - lr: 7.3000e-05\n",
            "Epoch 75/200\n",
            "7/7 [==============================] - 0s 54ms/step - loss: 22240.9551 - root_mean_squared_error: 149.1340 - val_loss: 62413.3242 - val_root_mean_squared_error: 249.8266 - lr: 7.4000e-05\n",
            "Epoch 76/200\n",
            "7/7 [==============================] - 0s 51ms/step - loss: 22275.2031 - root_mean_squared_error: 149.2488 - val_loss: 66371.8750 - val_root_mean_squared_error: 257.6274 - lr: 7.5000e-05\n",
            "Epoch 77/200\n",
            "7/7 [==============================] - 0s 49ms/step - loss: 21994.2949 - root_mean_squared_error: 148.3047 - val_loss: 69141.5625 - val_root_mean_squared_error: 262.9478 - lr: 7.6000e-05\n",
            "Epoch 78/200\n",
            "7/7 [==============================] - 0s 52ms/step - loss: 21767.3340 - root_mean_squared_error: 147.5376 - val_loss: 65063.9609 - val_root_mean_squared_error: 255.0764 - lr: 7.7000e-05\n",
            "Epoch 79/200\n",
            "7/7 [==============================] - 0s 49ms/step - loss: 21797.1816 - root_mean_squared_error: 147.6387 - val_loss: 64822.2109 - val_root_mean_squared_error: 254.6021 - lr: 7.8000e-05\n",
            "Epoch 80/200\n",
            "7/7 [==============================] - 0s 51ms/step - loss: 20776.8906 - root_mean_squared_error: 144.1419 - val_loss: 71987.7188 - val_root_mean_squared_error: 268.3053 - lr: 7.9000e-05\n",
            "Epoch 81/200\n",
            "7/7 [==============================] - 0s 53ms/step - loss: 20628.4160 - root_mean_squared_error: 143.6260 - val_loss: 74223.9297 - val_root_mean_squared_error: 272.4407 - lr: 8.0000e-05\n",
            "Epoch 82/200\n",
            "7/7 [==============================] - 0s 50ms/step - loss: 20089.8262 - root_mean_squared_error: 141.7386 - val_loss: 66894.3047 - val_root_mean_squared_error: 258.6393 - lr: 8.1000e-05\n",
            "Epoch 83/200\n",
            "7/7 [==============================] - 0s 49ms/step - loss: 19694.2461 - root_mean_squared_error: 140.3362 - val_loss: 61233.2188 - val_root_mean_squared_error: 247.4535 - lr: 8.2000e-05\n",
            "Epoch 84/200\n",
            "7/7 [==============================] - 0s 51ms/step - loss: 20066.9414 - root_mean_squared_error: 141.6578 - val_loss: 59154.4492 - val_root_mean_squared_error: 243.2169 - lr: 8.3000e-05\n",
            "Epoch 85/200\n",
            "7/7 [==============================] - 0s 51ms/step - loss: 19537.5352 - root_mean_squared_error: 139.7767 - val_loss: 60647.9961 - val_root_mean_squared_error: 246.2681 - lr: 8.4000e-05\n",
            "Epoch 86/200\n",
            "7/7 [==============================] - 0s 52ms/step - loss: 19682.0879 - root_mean_squared_error: 140.2929 - val_loss: 65585.7734 - val_root_mean_squared_error: 256.0972 - lr: 8.5000e-05\n",
            "Epoch 87/200\n",
            "7/7 [==============================] - 0s 57ms/step - loss: 19490.5215 - root_mean_squared_error: 139.6085 - val_loss: 74081.4922 - val_root_mean_squared_error: 272.1792 - lr: 8.6000e-05\n",
            "Epoch 88/200\n",
            "7/7 [==============================] - 0s 50ms/step - loss: 19321.6250 - root_mean_squared_error: 139.0022 - val_loss: 64435.4023 - val_root_mean_squared_error: 253.8413 - lr: 8.7000e-05\n",
            "Epoch 89/200\n",
            "7/7 [==============================] - 0s 52ms/step - loss: 18990.2598 - root_mean_squared_error: 137.8052 - val_loss: 67498.7812 - val_root_mean_squared_error: 259.8053 - lr: 8.8000e-05\n",
            "Epoch 90/200\n",
            "7/7 [==============================] - 0s 50ms/step - loss: 19029.4531 - root_mean_squared_error: 137.9473 - val_loss: 67452.3594 - val_root_mean_squared_error: 259.7159 - lr: 8.9000e-05\n",
            "Epoch 91/200\n",
            "7/7 [==============================] - 0s 49ms/step - loss: 18504.5117 - root_mean_squared_error: 136.0313 - val_loss: 73322.4922 - val_root_mean_squared_error: 270.7812 - lr: 9.0000e-05\n",
            "Epoch 92/200\n",
            "7/7 [==============================] - 0s 54ms/step - loss: 18511.9336 - root_mean_squared_error: 136.0586 - val_loss: 70695.2422 - val_root_mean_squared_error: 265.8858 - lr: 9.1000e-05\n",
            "Epoch 93/200\n",
            "7/7 [==============================] - 0s 50ms/step - loss: 18643.3398 - root_mean_squared_error: 136.5406 - val_loss: 56693.6953 - val_root_mean_squared_error: 238.1044 - lr: 9.2000e-05\n",
            "Epoch 94/200\n",
            "7/7 [==============================] - 0s 51ms/step - loss: 18122.5938 - root_mean_squared_error: 134.6202 - val_loss: 57558.8633 - val_root_mean_squared_error: 239.9143 - lr: 9.3000e-05\n",
            "Epoch 95/200\n",
            "7/7 [==============================] - 0s 53ms/step - loss: 17882.3477 - root_mean_squared_error: 133.7249 - val_loss: 56194.5938 - val_root_mean_squared_error: 237.0540 - lr: 9.4000e-05\n",
            "Epoch 96/200\n",
            "7/7 [==============================] - 0s 50ms/step - loss: 18554.8613 - root_mean_squared_error: 136.2162 - val_loss: 60348.3320 - val_root_mean_squared_error: 245.6590 - lr: 9.5000e-05\n",
            "Epoch 97/200\n",
            "7/7 [==============================] - 0s 53ms/step - loss: 19511.2969 - root_mean_squared_error: 139.6828 - val_loss: 53541.1289 - val_root_mean_squared_error: 231.3896 - lr: 9.6000e-05\n",
            "Epoch 98/200\n",
            "7/7 [==============================] - 0s 56ms/step - loss: 20079.0332 - root_mean_squared_error: 141.7005 - val_loss: 58642.5039 - val_root_mean_squared_error: 242.1622 - lr: 9.7000e-05\n",
            "Epoch 99/200\n",
            "7/7 [==============================] - 0s 52ms/step - loss: 18431.8438 - root_mean_squared_error: 135.7639 - val_loss: 64539.6523 - val_root_mean_squared_error: 254.0466 - lr: 9.8000e-05\n",
            "Epoch 100/200\n",
            "7/7 [==============================] - 0s 51ms/step - loss: 18616.7148 - root_mean_squared_error: 136.4431 - val_loss: 60613.7344 - val_root_mean_squared_error: 246.1986 - lr: 9.9000e-05\n",
            "Epoch 101/200\n",
            "7/7 [==============================] - 0s 50ms/step - loss: 18586.4375 - root_mean_squared_error: 136.3321 - val_loss: 57780.9688 - val_root_mean_squared_error: 240.3767 - lr: 1.0000e-04\n",
            "Epoch 102/200\n",
            "7/7 [==============================] - 0s 52ms/step - loss: 17037.8945 - root_mean_squared_error: 130.5293 - val_loss: 59556.9023 - val_root_mean_squared_error: 244.0428 - lr: 1.0000e-05\n",
            "Epoch 103/200\n",
            "7/7 [==============================] - 0s 57ms/step - loss: 16816.9473 - root_mean_squared_error: 129.6802 - val_loss: 60523.8242 - val_root_mean_squared_error: 246.0159 - lr: 1.0000e-05\n",
            "Epoch 104/200\n",
            "7/7 [==============================] - 0s 52ms/step - loss: 17100.3477 - root_mean_squared_error: 130.7683 - val_loss: 59502.8320 - val_root_mean_squared_error: 243.9320 - lr: 1.0000e-05\n",
            "Epoch 105/200\n",
            "7/7 [==============================] - 0s 51ms/step - loss: 16629.2598 - root_mean_squared_error: 128.9545 - val_loss: 58730.7656 - val_root_mean_squared_error: 242.3443 - lr: 1.0000e-05\n",
            "Epoch 106/200\n",
            "7/7 [==============================] - 0s 55ms/step - loss: 16537.4043 - root_mean_squared_error: 128.5978 - val_loss: 57656.1094 - val_root_mean_squared_error: 240.1169 - lr: 1.0000e-05\n",
            "Epoch 107/200\n",
            "7/7 [==============================] - 0s 49ms/step - loss: 16462.3691 - root_mean_squared_error: 128.3058 - val_loss: 57636.6172 - val_root_mean_squared_error: 240.0763 - lr: 1.0000e-05\n",
            "Epoch 108/200\n",
            "7/7 [==============================] - 0s 48ms/step - loss: 16395.6504 - root_mean_squared_error: 128.0455 - val_loss: 57388.5977 - val_root_mean_squared_error: 239.5592 - lr: 1.0000e-05\n",
            "Epoch 109/200\n",
            "7/7 [==============================] - 0s 53ms/step - loss: 16342.0811 - root_mean_squared_error: 127.8362 - val_loss: 56861.4570 - val_root_mean_squared_error: 238.4564 - lr: 1.0000e-05\n",
            "Epoch 110/200\n",
            "7/7 [==============================] - 0s 53ms/step - loss: 16297.8369 - root_mean_squared_error: 127.6630 - val_loss: 55401.0156 - val_root_mean_squared_error: 235.3742 - lr: 1.0000e-05\n",
            "Epoch 111/200\n",
            "7/7 [==============================] - 0s 51ms/step - loss: 16245.4951 - root_mean_squared_error: 127.4578 - val_loss: 54664.1719 - val_root_mean_squared_error: 233.8037 - lr: 1.0000e-05\n",
            "Epoch 112/200\n",
            "7/7 [==============================] - 0s 50ms/step - loss: 16185.4131 - root_mean_squared_error: 127.2219 - val_loss: 55056.1406 - val_root_mean_squared_error: 234.6405 - lr: 1.0000e-05\n",
            "Epoch 113/200\n",
            "7/7 [==============================] - 0s 50ms/step - loss: 16130.1689 - root_mean_squared_error: 127.0046 - val_loss: 56309.4297 - val_root_mean_squared_error: 237.2961 - lr: 1.0000e-05\n",
            "Epoch 114/200\n",
            "7/7 [==============================] - 0s 49ms/step - loss: 16294.8262 - root_mean_squared_error: 127.6512 - val_loss: 57490.5430 - val_root_mean_squared_error: 239.7719 - lr: 1.0000e-05\n",
            "Epoch 115/200\n",
            "7/7 [==============================] - 0s 50ms/step - loss: 16076.9033 - root_mean_squared_error: 126.7947 - val_loss: 57470.0352 - val_root_mean_squared_error: 239.7291 - lr: 1.0000e-05\n",
            "Epoch 116/200\n",
            "7/7 [==============================] - 0s 59ms/step - loss: 16038.5293 - root_mean_squared_error: 126.6433 - val_loss: 57771.5195 - val_root_mean_squared_error: 240.3571 - lr: 1.0000e-05\n",
            "Epoch 117/200\n",
            "7/7 [==============================] - 0s 55ms/step - loss: 15996.4375 - root_mean_squared_error: 126.4770 - val_loss: 57222.4297 - val_root_mean_squared_error: 239.2121 - lr: 1.0000e-05\n",
            "Epoch 118/200\n",
            "7/7 [==============================] - 0s 49ms/step - loss: 15940.9404 - root_mean_squared_error: 126.2574 - val_loss: 56071.5625 - val_root_mean_squared_error: 236.7943 - lr: 1.0000e-05\n",
            "Epoch 119/200\n",
            "7/7 [==============================] - 0s 51ms/step - loss: 15886.5879 - root_mean_squared_error: 126.0420 - val_loss: 55540.4492 - val_root_mean_squared_error: 235.6702 - lr: 1.0000e-05\n",
            "Epoch 120/200\n",
            "7/7 [==============================] - 0s 56ms/step - loss: 15831.7666 - root_mean_squared_error: 125.8243 - val_loss: 55378.3789 - val_root_mean_squared_error: 235.3261 - lr: 1.0000e-05\n",
            "Epoch 121/200\n",
            "7/7 [==============================] - 0s 53ms/step - loss: 15785.5410 - root_mean_squared_error: 125.6405 - val_loss: 54953.1992 - val_root_mean_squared_error: 234.4210 - lr: 1.0000e-05\n",
            "Epoch 122/200\n",
            "7/7 [==============================] - 0s 50ms/step - loss: 15613.0566 - root_mean_squared_error: 124.9522 - val_loss: 55383.1016 - val_root_mean_squared_error: 235.3362 - lr: 1.0000e-05\n",
            "Epoch 123/200\n",
            "7/7 [==============================] - 0s 57ms/step - loss: 15626.7715 - root_mean_squared_error: 125.0071 - val_loss: 55364.9414 - val_root_mean_squared_error: 235.2976 - lr: 1.0000e-05\n",
            "Epoch 124/200\n",
            "7/7 [==============================] - 0s 54ms/step - loss: 15513.3867 - root_mean_squared_error: 124.5527 - val_loss: 54246.6758 - val_root_mean_squared_error: 232.9091 - lr: 1.0000e-05\n",
            "Epoch 125/200\n",
            "7/7 [==============================] - 0s 52ms/step - loss: 15490.4521 - root_mean_squared_error: 124.4606 - val_loss: 54956.5195 - val_root_mean_squared_error: 234.4281 - lr: 1.0000e-05\n",
            "Epoch 126/200\n",
            "7/7 [==============================] - 0s 52ms/step - loss: 15445.8213 - root_mean_squared_error: 124.2812 - val_loss: 55524.7070 - val_root_mean_squared_error: 235.6368 - lr: 1.0000e-05\n",
            "Epoch 127/200\n",
            "7/7 [==============================] - 0s 56ms/step - loss: 15399.7695 - root_mean_squared_error: 124.0958 - val_loss: 56160.9414 - val_root_mean_squared_error: 236.9830 - lr: 1.0000e-05\n",
            "Epoch 128/200\n",
            "7/7 [==============================] - 0s 58ms/step - loss: 15347.7129 - root_mean_squared_error: 123.8859 - val_loss: 55776.8672 - val_root_mean_squared_error: 236.1713 - lr: 1.0000e-05\n",
            "Epoch 129/200\n",
            "7/7 [==============================] - 0s 51ms/step - loss: 15293.2256 - root_mean_squared_error: 123.6658 - val_loss: 56608.3477 - val_root_mean_squared_error: 237.9251 - lr: 1.0000e-05\n",
            "Epoch 130/200\n",
            "7/7 [==============================] - 0s 53ms/step - loss: 15248.6533 - root_mean_squared_error: 123.4854 - val_loss: 56226.7734 - val_root_mean_squared_error: 237.1219 - lr: 1.0000e-05\n",
            "Epoch 131/200\n",
            "7/7 [==============================] - 0s 55ms/step - loss: 15198.0107 - root_mean_squared_error: 123.2802 - val_loss: 55440.1992 - val_root_mean_squared_error: 235.4574 - lr: 1.0000e-05\n",
            "Epoch 132/200\n",
            "7/7 [==============================] - 0s 50ms/step - loss: 15562.1377 - root_mean_squared_error: 124.7483 - val_loss: 54263.9453 - val_root_mean_squared_error: 232.9462 - lr: 1.0000e-05\n",
            "Epoch 133/200\n",
            "7/7 [==============================] - 0s 55ms/step - loss: 15578.3027 - root_mean_squared_error: 124.8131 - val_loss: 53802.2500 - val_root_mean_squared_error: 231.9531 - lr: 1.0000e-05\n",
            "Epoch 134/200\n",
            "7/7 [==============================] - 0s 56ms/step - loss: 15797.6387 - root_mean_squared_error: 125.6887 - val_loss: 52859.9023 - val_root_mean_squared_error: 229.9128 - lr: 1.0000e-05\n",
            "Epoch 135/200\n",
            "7/7 [==============================] - 0s 53ms/step - loss: 15778.0801 - root_mean_squared_error: 125.6108 - val_loss: 53818.5352 - val_root_mean_squared_error: 231.9882 - lr: 1.0000e-05\n",
            "Epoch 136/200\n",
            "7/7 [==============================] - 0s 53ms/step - loss: 15763.7920 - root_mean_squared_error: 125.5539 - val_loss: 54164.8242 - val_root_mean_squared_error: 232.7334 - lr: 1.0000e-05\n",
            "Epoch 137/200\n",
            "7/7 [==============================] - 0s 53ms/step - loss: 15849.6846 - root_mean_squared_error: 125.8955 - val_loss: 54765.1133 - val_root_mean_squared_error: 234.0195 - lr: 1.0000e-05\n",
            "Epoch 138/200\n",
            "7/7 [==============================] - 0s 51ms/step - loss: 15816.5352 - root_mean_squared_error: 125.7638 - val_loss: 54568.3906 - val_root_mean_squared_error: 233.5988 - lr: 1.0000e-05\n",
            "Epoch 139/200\n",
            "7/7 [==============================] - 0s 61ms/step - loss: 15714.1650 - root_mean_squared_error: 125.3562 - val_loss: 54010.7188 - val_root_mean_squared_error: 232.4020 - lr: 1.0000e-05\n",
            "Epoch 140/200\n",
            "7/7 [==============================] - 0s 54ms/step - loss: 15659.8564 - root_mean_squared_error: 125.1394 - val_loss: 53808.5508 - val_root_mean_squared_error: 231.9667 - lr: 1.0000e-05\n",
            "Epoch 141/200\n",
            "7/7 [==============================] - 0s 53ms/step - loss: 15563.9131 - root_mean_squared_error: 124.7554 - val_loss: 53398.9648 - val_root_mean_squared_error: 231.0822 - lr: 1.0000e-05\n",
            "Epoch 142/200\n",
            "7/7 [==============================] - 0s 54ms/step - loss: 15502.4131 - root_mean_squared_error: 124.5087 - val_loss: 52918.1328 - val_root_mean_squared_error: 230.0394 - lr: 1.0000e-05\n",
            "Epoch 143/200\n",
            "7/7 [==============================] - 0s 54ms/step - loss: 15457.3643 - root_mean_squared_error: 124.3276 - val_loss: 53183.1133 - val_root_mean_squared_error: 230.6146 - lr: 1.0000e-05\n",
            "Epoch 144/200\n",
            "7/7 [==============================] - 0s 52ms/step - loss: 15429.3770 - root_mean_squared_error: 124.2150 - val_loss: 53139.2188 - val_root_mean_squared_error: 230.5195 - lr: 1.0000e-05\n",
            "Epoch 145/200\n",
            "7/7 [==============================] - 0s 58ms/step - loss: 15387.6826 - root_mean_squared_error: 124.0471 - val_loss: 52788.7695 - val_root_mean_squared_error: 229.7581 - lr: 1.0000e-05\n",
            "Epoch 146/200\n",
            "7/7 [==============================] - 0s 51ms/step - loss: 15367.7744 - root_mean_squared_error: 123.9668 - val_loss: 52999.3242 - val_root_mean_squared_error: 230.2158 - lr: 1.0000e-05\n",
            "Epoch 147/200\n",
            "7/7 [==============================] - 0s 61ms/step - loss: 15280.9033 - root_mean_squared_error: 123.6160 - val_loss: 52607.6719 - val_root_mean_squared_error: 229.3636 - lr: 1.0000e-05\n",
            "Epoch 148/200\n",
            "7/7 [==============================] - 0s 49ms/step - loss: 15197.0225 - root_mean_squared_error: 123.2762 - val_loss: 52422.8242 - val_root_mean_squared_error: 228.9603 - lr: 1.0000e-05\n",
            "Epoch 149/200\n",
            "7/7 [==============================] - 0s 52ms/step - loss: 15245.9561 - root_mean_squared_error: 123.4745 - val_loss: 52994.2070 - val_root_mean_squared_error: 230.2047 - lr: 1.0000e-05\n",
            "Epoch 150/200\n",
            "7/7 [==============================] - 0s 56ms/step - loss: 15130.8877 - root_mean_squared_error: 123.0077 - val_loss: 53426.0234 - val_root_mean_squared_error: 231.1407 - lr: 1.0000e-05\n",
            "Epoch 151/200\n",
            "7/7 [==============================] - 0s 53ms/step - loss: 15084.9814 - root_mean_squared_error: 122.8209 - val_loss: 53846.6914 - val_root_mean_squared_error: 232.0489 - lr: 1.0000e-05\n",
            "Epoch 152/200\n",
            "7/7 [==============================] - 0s 51ms/step - loss: 15022.1719 - root_mean_squared_error: 122.5650 - val_loss: 53988.7344 - val_root_mean_squared_error: 232.3548 - lr: 1.0000e-05\n",
            "Epoch 153/200\n",
            "7/7 [==============================] - 0s 53ms/step - loss: 14972.2500 - root_mean_squared_error: 122.3612 - val_loss: 53883.4766 - val_root_mean_squared_error: 232.1282 - lr: 1.0000e-05\n",
            "Epoch 154/200\n",
            "7/7 [==============================] - 0s 53ms/step - loss: 14938.3018 - root_mean_squared_error: 122.2223 - val_loss: 53613.5234 - val_root_mean_squared_error: 231.5459 - lr: 1.0000e-05\n",
            "Epoch 155/200\n",
            "7/7 [==============================] - 0s 53ms/step - loss: 14939.0752 - root_mean_squared_error: 122.2255 - val_loss: 53465.4609 - val_root_mean_squared_error: 231.2260 - lr: 1.0000e-05\n",
            "Epoch 156/200\n",
            "7/7 [==============================] - 0s 53ms/step - loss: 14885.9551 - root_mean_squared_error: 122.0080 - val_loss: 53222.1680 - val_root_mean_squared_error: 230.6993 - lr: 1.0000e-05\n",
            "Epoch 157/200\n",
            "7/7 [==============================] - 0s 52ms/step - loss: 14849.9639 - root_mean_squared_error: 121.8604 - val_loss: 53159.0234 - val_root_mean_squared_error: 230.5624 - lr: 1.0000e-05\n",
            "Epoch 158/200\n",
            "7/7 [==============================] - 0s 53ms/step - loss: 14861.6836 - root_mean_squared_error: 121.9085 - val_loss: 52894.2852 - val_root_mean_squared_error: 229.9876 - lr: 1.0000e-05\n",
            "Epoch 159/200\n",
            "7/7 [==============================] - 0s 51ms/step - loss: 14840.3682 - root_mean_squared_error: 121.8211 - val_loss: 52656.1602 - val_root_mean_squared_error: 229.4693 - lr: 1.0000e-05\n",
            "Epoch 160/200\n",
            "7/7 [==============================] - 0s 53ms/step - loss: 14724.0928 - root_mean_squared_error: 121.3429 - val_loss: 52066.6680 - val_root_mean_squared_error: 228.1812 - lr: 1.0000e-05\n",
            "Epoch 161/200\n",
            "7/7 [==============================] - 0s 60ms/step - loss: 14775.3809 - root_mean_squared_error: 121.5540 - val_loss: 52996.0508 - val_root_mean_squared_error: 230.2087 - lr: 1.0000e-05\n",
            "Epoch 162/200\n",
            "7/7 [==============================] - 0s 52ms/step - loss: 14419.9170 - root_mean_squared_error: 120.0830 - val_loss: 52936.3711 - val_root_mean_squared_error: 230.0791 - lr: 1.0000e-05\n",
            "Epoch 163/200\n",
            "7/7 [==============================] - 0s 53ms/step - loss: 14362.2666 - root_mean_squared_error: 119.8427 - val_loss: 53240.1758 - val_root_mean_squared_error: 230.7383 - lr: 1.0000e-05\n",
            "Epoch 164/200\n",
            "7/7 [==============================] - 0s 51ms/step - loss: 14310.4023 - root_mean_squared_error: 119.6261 - val_loss: 53668.9570 - val_root_mean_squared_error: 231.6656 - lr: 1.0000e-05\n",
            "Epoch 165/200\n",
            "7/7 [==============================] - 0s 52ms/step - loss: 14261.9580 - root_mean_squared_error: 119.4234 - val_loss: 53858.7188 - val_root_mean_squared_error: 232.0748 - lr: 1.0000e-05\n",
            "Epoch 166/200\n",
            "7/7 [==============================] - 0s 57ms/step - loss: 14252.3613 - root_mean_squared_error: 119.3832 - val_loss: 53924.4492 - val_root_mean_squared_error: 232.2164 - lr: 1.0000e-05\n",
            "Epoch 167/200\n",
            "7/7 [==============================] - 0s 55ms/step - loss: 14197.1895 - root_mean_squared_error: 119.1520 - val_loss: 53470.9844 - val_root_mean_squared_error: 231.2379 - lr: 1.0000e-05\n",
            "Epoch 168/200\n",
            "7/7 [==============================] - 0s 54ms/step - loss: 14168.5273 - root_mean_squared_error: 119.0316 - val_loss: 52908.2852 - val_root_mean_squared_error: 230.0180 - lr: 1.0000e-05\n",
            "Epoch 169/200\n",
            "7/7 [==============================] - 0s 53ms/step - loss: 14182.7949 - root_mean_squared_error: 119.0915 - val_loss: 53665.5156 - val_root_mean_squared_error: 231.6582 - lr: 1.0000e-05\n",
            "Epoch 170/200\n",
            "7/7 [==============================] - 0s 53ms/step - loss: 14180.5020 - root_mean_squared_error: 119.0819 - val_loss: 53002.5312 - val_root_mean_squared_error: 230.2228 - lr: 1.0000e-05\n",
            "Epoch 171/200\n",
            "7/7 [==============================] - 0s 57ms/step - loss: 14121.9141 - root_mean_squared_error: 118.8357 - val_loss: 53393.5039 - val_root_mean_squared_error: 231.0703 - lr: 1.0000e-05\n",
            "Epoch 172/200\n",
            "7/7 [==============================] - 0s 52ms/step - loss: 14103.8555 - root_mean_squared_error: 118.7597 - val_loss: 52643.2812 - val_root_mean_squared_error: 229.4412 - lr: 1.0000e-05\n",
            "Epoch 173/200\n",
            "7/7 [==============================] - 0s 59ms/step - loss: 14064.9941 - root_mean_squared_error: 118.5959 - val_loss: 52962.5312 - val_root_mean_squared_error: 230.1359 - lr: 1.0000e-05\n",
            "Epoch 174/200\n",
            "7/7 [==============================] - 0s 55ms/step - loss: 14083.2061 - root_mean_squared_error: 118.6727 - val_loss: 54542.7930 - val_root_mean_squared_error: 233.5440 - lr: 1.0000e-05\n",
            "Epoch 175/200\n",
            "7/7 [==============================] - 0s 51ms/step - loss: 14101.9170 - root_mean_squared_error: 118.7515 - val_loss: 54603.1133 - val_root_mean_squared_error: 233.6731 - lr: 1.0000e-05\n",
            "Epoch 176/200\n",
            "7/7 [==============================] - 0s 52ms/step - loss: 14024.0244 - root_mean_squared_error: 118.4231 - val_loss: 54085.8086 - val_root_mean_squared_error: 232.5636 - lr: 1.0000e-05\n",
            "Epoch 177/200\n",
            "7/7 [==============================] - 0s 55ms/step - loss: 14041.5293 - root_mean_squared_error: 118.4970 - val_loss: 53493.5156 - val_root_mean_squared_error: 231.2867 - lr: 1.0000e-05\n",
            "Epoch 178/200\n",
            "7/7 [==============================] - 0s 52ms/step - loss: 13967.1416 - root_mean_squared_error: 118.1827 - val_loss: 51911.6211 - val_root_mean_squared_error: 227.8412 - lr: 1.0000e-05\n",
            "Epoch 179/200\n",
            "7/7 [==============================] - 0s 55ms/step - loss: 13929.5371 - root_mean_squared_error: 118.0235 - val_loss: 52003.5234 - val_root_mean_squared_error: 228.0428 - lr: 1.0000e-05\n",
            "Epoch 180/200\n",
            "7/7 [==============================] - 0s 56ms/step - loss: 13827.2334 - root_mean_squared_error: 117.5892 - val_loss: 52989.4023 - val_root_mean_squared_error: 230.1943 - lr: 1.0000e-05\n",
            "Epoch 181/200\n",
            "7/7 [==============================] - 0s 56ms/step - loss: 13803.9424 - root_mean_squared_error: 117.4902 - val_loss: 53625.4375 - val_root_mean_squared_error: 231.5717 - lr: 1.0000e-05\n",
            "Epoch 182/200\n",
            "7/7 [==============================] - 0s 56ms/step - loss: 13810.2236 - root_mean_squared_error: 117.5169 - val_loss: 53297.3281 - val_root_mean_squared_error: 230.8622 - lr: 1.0000e-05\n",
            "Epoch 183/200\n",
            "7/7 [==============================] - 0s 54ms/step - loss: 13728.8779 - root_mean_squared_error: 117.1703 - val_loss: 52927.8242 - val_root_mean_squared_error: 230.0605 - lr: 1.0000e-05\n",
            "Epoch 184/200\n",
            "7/7 [==============================] - 0s 50ms/step - loss: 13727.3477 - root_mean_squared_error: 117.1638 - val_loss: 53474.0938 - val_root_mean_squared_error: 231.2447 - lr: 1.0000e-05\n",
            "Epoch 185/200\n",
            "7/7 [==============================] - 0s 58ms/step - loss: 13679.0293 - root_mean_squared_error: 116.9574 - val_loss: 52336.0703 - val_root_mean_squared_error: 228.7708 - lr: 1.0000e-05\n",
            "Epoch 186/200\n",
            "7/7 [==============================] - 0s 55ms/step - loss: 13592.8145 - root_mean_squared_error: 116.5882 - val_loss: 52529.6211 - val_root_mean_squared_error: 229.1934 - lr: 1.0000e-05\n",
            "Epoch 187/200\n",
            "7/7 [==============================] - 0s 55ms/step - loss: 13621.6025 - root_mean_squared_error: 116.7116 - val_loss: 52480.4102 - val_root_mean_squared_error: 229.0860 - lr: 1.0000e-05\n",
            "Epoch 188/200\n",
            "7/7 [==============================] - 0s 66ms/step - loss: 13537.0557 - root_mean_squared_error: 116.3489 - val_loss: 52760.9609 - val_root_mean_squared_error: 229.6976 - lr: 1.0000e-05\n",
            "Epoch 189/200\n",
            "7/7 [==============================] - 0s 53ms/step - loss: 13504.9082 - root_mean_squared_error: 116.2106 - val_loss: 52782.2461 - val_root_mean_squared_error: 229.7439 - lr: 1.0000e-05\n",
            "Epoch 190/200\n",
            "7/7 [==============================] - 0s 55ms/step - loss: 13453.3350 - root_mean_squared_error: 115.9885 - val_loss: 52823.3828 - val_root_mean_squared_error: 229.8334 - lr: 1.0000e-05\n",
            "Epoch 191/200\n",
            "7/7 [==============================] - 0s 52ms/step - loss: 13425.8467 - root_mean_squared_error: 115.8699 - val_loss: 52795.2539 - val_root_mean_squared_error: 229.7722 - lr: 1.0000e-05\n",
            "Epoch 192/200\n",
            "7/7 [==============================] - 0s 53ms/step - loss: 13404.6904 - root_mean_squared_error: 115.7786 - val_loss: 52808.5430 - val_root_mean_squared_error: 229.8011 - lr: 1.0000e-05\n",
            "Epoch 193/200\n",
            "7/7 [==============================] - 0s 54ms/step - loss: 13402.0527 - root_mean_squared_error: 115.7672 - val_loss: 52607.7617 - val_root_mean_squared_error: 229.3638 - lr: 1.0000e-05\n",
            "Epoch 194/200\n",
            "7/7 [==============================] - 0s 53ms/step - loss: 13381.9961 - root_mean_squared_error: 115.6806 - val_loss: 52326.5352 - val_root_mean_squared_error: 228.7499 - lr: 1.0000e-05\n",
            "Epoch 195/200\n",
            "7/7 [==============================] - 0s 52ms/step - loss: 13297.3145 - root_mean_squared_error: 115.3140 - val_loss: 53007.5430 - val_root_mean_squared_error: 230.2337 - lr: 1.0000e-05\n",
            "Epoch 196/200\n",
            "7/7 [==============================] - 0s 55ms/step - loss: 13280.8809 - root_mean_squared_error: 115.2427 - val_loss: 53837.7734 - val_root_mean_squared_error: 232.0297 - lr: 1.0000e-05\n",
            "Epoch 197/200\n",
            "7/7 [==============================] - 0s 52ms/step - loss: 13268.8867 - root_mean_squared_error: 115.1907 - val_loss: 54367.3867 - val_root_mean_squared_error: 233.1681 - lr: 1.0000e-05\n",
            "Epoch 198/200\n",
            "7/7 [==============================] - 0s 59ms/step - loss: 13260.5166 - root_mean_squared_error: 115.1543 - val_loss: 55064.5586 - val_root_mean_squared_error: 234.6584 - lr: 1.0000e-05\n",
            "Epoch 199/200\n",
            "7/7 [==============================] - 0s 54ms/step - loss: 13156.2861 - root_mean_squared_error: 114.7009 - val_loss: 54873.8281 - val_root_mean_squared_error: 234.2516 - lr: 1.0000e-05\n",
            "Epoch 200/200\n",
            "7/7 [==============================] - 0s 55ms/step - loss: 13059.4268 - root_mean_squared_error: 114.2778 - val_loss: 53857.1758 - val_root_mean_squared_error: 232.0715 - lr: 1.0000e-05\n"
          ]
        }
      ]
    },
    {
      "cell_type": "code",
      "source": [
        "historyDict = ETH_hist.history\n",
        "\n",
        "loss = historyDict[\"loss\"]\n",
        "root_mean_squared_error = historyDict[\"root_mean_squared_error\"]\n",
        "valLoss = historyDict[\"val_loss\"]\n",
        "val_root_mean_squared_error = historyDict[\"val_root_mean_squared_error\"]\n",
        "\n",
        "epochs = range(1, len(loss) + 1)"
      ],
      "metadata": {
        "id": "hiBnTNvgWcoR"
      },
      "execution_count": 55,
      "outputs": []
    },
    {
      "cell_type": "code",
      "source": [
        "fig, (ax1, ax2) = plt.subplots(1, 2)\n",
        "\n",
        "fig.set_figheight(5)\n",
        "fig.set_figwidth(15)\n",
        "\n",
        "ax1.plot(epochs, loss, label = 'Training Loss')\n",
        "ax1.plot(epochs, valLoss, label = 'Validation Loss')\n",
        "ax1.set(xlabel = \"Epochs\", ylabel = \"Loss\")\n",
        "ax1.legend()\n",
        "\n",
        "ax2.plot(epochs, root_mean_squared_error, label = \"Training Root Mean Squared Error\")\n",
        "ax2.plot(epochs, val_root_mean_squared_error, label = \"Validation Root Mean Squared Error\")\n",
        "ax2.set(xlabel = \"Epochs\", ylabel = \"Loss\")\n",
        "ax2.legend()\n",
        "\n",
        "plt.show()"
      ],
      "metadata": {
        "colab": {
          "base_uri": "https://localhost:8080/",
          "height": 345
        },
        "id": "YqMcBOgAXrjz",
        "outputId": "fb30ecfe-da36-4536-e7d7-6c265d412da5"
      },
      "execution_count": 56,
      "outputs": [
        {
          "output_type": "display_data",
          "data": {
            "text/plain": [
              "<Figure size 1080x360 with 2 Axes>"
            ],
            "image/png": "[encoded data removed]"
          },
          "metadata": {
            "needs_background": "light"
          }
        }
      ]
    },
    {
      "cell_type": "markdown",
      "source": [
        "#### Predicting the closing price for ETH for a week"
      ],
      "metadata": {
        "id": "e8BKQ8cpLJVB"
      }
    },
    {
      "cell_type": "code",
      "source": [
        "ETH_prediction = ETH_Model.predict(ETH_Test_X)"
      ],
      "metadata": {
        "colab": {
          "base_uri": "https://localhost:8080/"
        },
        "id": "O1s-qFXULNM0",
        "outputId": "2b24ee15-1b17-4d3a-f510-95cd1feef1a3"
      },
      "execution_count": 57,
      "outputs": [
        {
          "output_type": "stream",
          "name": "stdout",
          "text": [
            "2/2 [==============================] - 0s 15ms/step\n"
          ]
        }
      ]
    },
    {
      "cell_type": "code",
      "source": [
        "plt.figure(figsize = (20, 5))\n",
        "\n",
        "plt.plot(ETH['Date'][ETH['Date'] < '2021-11-25'], ETH['Close'][ETH['Date'] < '2021-11-25'], label = 'Training')\n",
        "plt.plot(ETH['Date'][ETH['Date'] >= '2021-11-26'], ETH['Close'][ETH['Date'] >= '2021-11-26'], label = 'Testing')\n",
        "plt.plot(ETH['Date'][ETH['Date'] >= '2021-11-28'], ETH_prediction.reshape(-1), label = 'Predictions')\n",
        "plt.xlabel('Time')\n",
        "plt.ylabel('Closing Price')\n",
        "plt.legend(loc = 'best')"
      ],
      "metadata": {
        "colab": {
          "base_uri": "https://localhost:8080/",
          "height": 346
        },
        "id": "bHEFZg7ULaNB",
        "outputId": "6e737bb0-6b0a-4e83-bb98-2389fbd68453"
      },
      "execution_count": 58,
      "outputs": [
        {
          "output_type": "execute_result",
          "data": {
            "text/plain": [
              "<matplotlib.legend.Legend at 0x7fe0fcb7d1c0>"
            ]
          },
          "metadata": {},
          "execution_count": 58
        },
        {
          "output_type": "display_data",
          "data": {
            "text/plain": [
              "<Figure size 1440x360 with 1 Axes>"
            ],
            "image/png": "[encoded data removed]"
          },
          "metadata": {
            "needs_background": "light"
          }
        }
      ]
    },
    {
      "cell_type": "code",
      "source": [
        "rmse = math.sqrt(mean_squared_error(ETH_Test_Y.reshape(-1,7), ETH_prediction))\n",
        "mape = np.mean(np.abs(ETH_Test_Y.reshape(-1,7) - ETH_prediction )/np.abs(ETH_Test_Y.reshape(-1,7))) * 100\n",
        "print(f'RMSE: {rmse}') #lower is better\n",
        "print(f'MAPE: {mape}') #mape should be as close to 0 as possible, but mape within 10% is ok"
      ],
      "metadata": {
        "colab": {
          "base_uri": "https://localhost:8080/"
        },
        "id": "n5N3gkBHYh7z",
        "outputId": "ef450b95-a703-458d-be5c-16dc4af3c493"
      },
      "execution_count": 59,
      "outputs": [
        {
          "output_type": "stream",
          "name": "stdout",
          "text": [
            "RMSE: 232.07148969061572\n",
            "MAPE: 8.13661453907012\n"
          ]
        }
      ]
    },
    {
      "cell_type": "markdown",
      "source": [
        "### GRU - LSTM model"
      ],
      "metadata": {
        "id": "DL21t4FUpQY0"
      }
    },
    {
      "cell_type": "code",
      "source": [],
      "metadata": {
        "id": "TdoRr_9UDRhR"
      },
      "execution_count": null,
      "outputs": []
    }
  ]
}