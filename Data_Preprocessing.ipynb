{
  "nbformat": 4,
  "nbformat_minor": 0,
  "metadata": {
    "colab": {
      "provenance": [],
      "authorship_tag": "ABX9TyOeX9LLKkpDevRbxFSCEDft",
      "include_colab_link": true
    },
    "kernelspec": {
      "name": "python3",
      "display_name": "Python 3"
    },
    "language_info": {
      "name": "python"
    }
  },
  "cells": [
    {
      "cell_type": "markdown",
      "metadata": {
        "id": "view-in-github",
        "colab_type": "text"
      },
      "source": [
        "<a href=\"https://colab.research.google.com/github/Ilia-Gershen/TYP-project/blob/main/Data_Preprocessing.ipynb\" target=\"_parent\"><img src=\"https://colab.research.google.com/assets/colab-badge.svg\" alt=\"Open In Colab\"/></a>"
      ]
    },
    {
      "cell_type": "code",
      "execution_count": null,
      "metadata": {
        "colab": {
          "base_uri": "https://localhost:8080/"
        },
        "id": "crkKYXJzFR-k",
        "outputId": "5e1ad876-d2e0-48ea-e1c0-2b92b54c04bd"
      },
      "outputs": [
        {
          "output_type": "stream",
          "name": "stdout",
          "text": [
            "Mounted at /content/drive\n"
          ]
        }
      ],
      "source": [
        "from google.colab import drive\n",
        "drive.mount('/content/drive')"
      ]
    },
    {
      "cell_type": "code",
      "source": [
        "import numpy as np\n",
        "import pandas as pd\n",
        "import matplotlib.pyplot as plt\n",
        "import seaborn as sns"
      ],
      "metadata": {
        "id": "PFpo0cgjHEhT"
      },
      "execution_count": null,
      "outputs": []
    },
    {
      "cell_type": "markdown",
      "source": [
        "# **Data Preprocessing** - converting data to format needed for model training"
      ],
      "metadata": {
        "id": "_zlVjw77HWPw"
      }
    },
    {
      "cell_type": "markdown",
      "source": [
        "# Loading Data from Database"
      ],
      "metadata": {
        "id": "9Hl2otm_HvAh"
      }
    },
    {
      "cell_type": "code",
      "source": [
        "ETH = pd.read_csv(\"/content/drive/MyDrive/Database/ETH-USD.csv\") #data from 2017 to 2022 used from finance.yahoo.com\n",
        "ETH.head()"
      ],
      "metadata": {
        "colab": {
          "base_uri": "https://localhost:8080/",
          "height": 201
        },
        "id": "z9lNDVeQH3ZD",
        "outputId": "855faba1-dd8c-41a1-de82-b70f9d78f81b"
      },
      "execution_count": null,
      "outputs": [
        {
          "output_type": "execute_result",
          "data": {
            "text/plain": [
              "         Date        Open        High         Low       Close   Adj Close  \\\n",
              "0  2017-11-19  347.401001  371.290985  344.739990  354.385986  354.385986   \n",
              "1  2017-11-20  354.093994  372.136993  353.289001  366.730011  366.730011   \n",
              "2  2017-11-21  367.442993  372.470001  350.692993  360.401001  360.401001   \n",
              "3  2017-11-22  360.312012  381.420013  360.147003  380.652008  380.652008   \n",
              "4  2017-11-23  381.438995  425.548004  376.088013  410.165985  410.165985   \n",
              "\n",
              "       Volume  \n",
              "0  1181529984  \n",
              "1   807027008  \n",
              "2   949912000  \n",
              "3   800819008  \n",
              "4  1845680000  "
            ],
            "text/html": [
              "\n",
              "  <div id=\"df-b29e408f-59bd-4320-b8c8-40d06cc63770\">\n",
              "    <div class=\"colab-df-container\">\n",
              "      <div>\n",
              "<style scoped>\n",
              "    .dataframe tbody tr th:only-of-type {\n",
              "        vertical-align: middle;\n",
              "    }\n",
              "\n",
              "    .dataframe tbody tr th {\n",
              "        vertical-align: top;\n",
              "    }\n",
              "\n",
              "    .dataframe thead th {\n",
              "        text-align: right;\n",
              "    }\n",
              "</style>\n",
              "<table border=\"1\" class=\"dataframe\">\n",
              "  <thead>\n",
              "    <tr style=\"text-align: right;\">\n",
              "      <th></th>\n",
              "      <th>Date</th>\n",
              "      <th>Open</th>\n",
              "      <th>High</th>\n",
              "      <th>Low</th>\n",
              "      <th>Close</th>\n",
              "      <th>Adj Close</th>\n",
              "      <th>Volume</th>\n",
              "    </tr>\n",
              "  </thead>\n",
              "  <tbody>\n",
              "    <tr>\n",
              "      <th>0</th>\n",
              "      <td>2017-11-19</td>\n",
              "      <td>347.401001</td>\n",
              "      <td>371.290985</td>\n",
              "      <td>344.739990</td>\n",
              "      <td>354.385986</td>\n",
              "      <td>354.385986</td>\n",
              "      <td>1181529984</td>\n",
              "    </tr>\n",
              "    <tr>\n",
              "      <th>1</th>\n",
              "      <td>2017-11-20</td>\n",
              "      <td>354.093994</td>\n",
              "      <td>372.136993</td>\n",
              "      <td>353.289001</td>\n",
              "      <td>366.730011</td>\n",
              "      <td>366.730011</td>\n",
              "      <td>807027008</td>\n",
              "    </tr>\n",
              "    <tr>\n",
              "      <th>2</th>\n",
              "      <td>2017-11-21</td>\n",
              "      <td>367.442993</td>\n",
              "      <td>372.470001</td>\n",
              "      <td>350.692993</td>\n",
              "      <td>360.401001</td>\n",
              "      <td>360.401001</td>\n",
              "      <td>949912000</td>\n",
              "    </tr>\n",
              "    <tr>\n",
              "      <th>3</th>\n",
              "      <td>2017-11-22</td>\n",
              "      <td>360.312012</td>\n",
              "      <td>381.420013</td>\n",
              "      <td>360.147003</td>\n",
              "      <td>380.652008</td>\n",
              "      <td>380.652008</td>\n",
              "      <td>800819008</td>\n",
              "    </tr>\n",
              "    <tr>\n",
              "      <th>4</th>\n",
              "      <td>2017-11-23</td>\n",
              "      <td>381.438995</td>\n",
              "      <td>425.548004</td>\n",
              "      <td>376.088013</td>\n",
              "      <td>410.165985</td>\n",
              "      <td>410.165985</td>\n",
              "      <td>1845680000</td>\n",
              "    </tr>\n",
              "  </tbody>\n",
              "</table>\n",
              "</div>\n",
              "      <button class=\"colab-df-convert\" onclick=\"convertToInteractive('df-b29e408f-59bd-4320-b8c8-40d06cc63770')\"\n",
              "              title=\"Convert this dataframe to an interactive table.\"\n",
              "              style=\"display:none;\">\n",
              "        \n",
              "  <svg xmlns=\"http://www.w3.org/2000/svg\" height=\"24px\"viewBox=\"0 0 24 24\"\n",
              "       width=\"24px\">\n",
              "    <path d=\"M0 0h24v24H0V0z\" fill=\"none\"/>\n",
              "    <path d=\"M18.56 5.44l.94 2.06.94-2.06 2.06-.94-2.06-.94-.94-2.06-.94 2.06-2.06.94zm-11 1L8.5 8.5l.94-2.06 2.06-.94-2.06-.94L8.5 2.5l-.94 2.06-2.06.94zm10 10l.94 2.06.94-2.06 2.06-.94-2.06-.94-.94-2.06-.94 2.06-2.06.94z\"/><path d=\"M17.41 7.96l-1.37-1.37c-.4-.4-.92-.59-1.43-.59-.52 0-1.04.2-1.43.59L10.3 9.45l-7.72 7.72c-.78.78-.78 2.05 0 2.83L4 21.41c.39.39.9.59 1.41.59.51 0 1.02-.2 1.41-.59l7.78-7.78 2.81-2.81c.8-.78.8-2.07 0-2.86zM5.41 20L4 18.59l7.72-7.72 1.47 1.35L5.41 20z\"/>\n",
              "  </svg>\n",
              "      </button>\n",
              "      \n",
              "  <style>\n",
              "    .colab-df-container {\n",
              "      display:flex;\n",
              "      flex-wrap:wrap;\n",
              "      gap: 12px;\n",
              "    }\n",
              "\n",
              "    .colab-df-convert {\n",
              "      background-color: #E8F0FE;\n",
              "      border: none;\n",
              "      border-radius: 50%;\n",
              "      cursor: pointer;\n",
              "      display: none;\n",
              "      fill: #1967D2;\n",
              "      height: 32px;\n",
              "      padding: 0 0 0 0;\n",
              "      width: 32px;\n",
              "    }\n",
              "\n",
              "    .colab-df-convert:hover {\n",
              "      background-color: #E2EBFA;\n",
              "      box-shadow: 0px 1px 2px rgba(60, 64, 67, 0.3), 0px 1px 3px 1px rgba(60, 64, 67, 0.15);\n",
              "      fill: #174EA6;\n",
              "    }\n",
              "\n",
              "    [theme=dark] .colab-df-convert {\n",
              "      background-color: #3B4455;\n",
              "      fill: #D2E3FC;\n",
              "    }\n",
              "\n",
              "    [theme=dark] .colab-df-convert:hover {\n",
              "      background-color: #434B5C;\n",
              "      box-shadow: 0px 1px 3px 1px rgba(0, 0, 0, 0.15);\n",
              "      filter: drop-shadow(0px 1px 2px rgba(0, 0, 0, 0.3));\n",
              "      fill: #FFFFFF;\n",
              "    }\n",
              "  </style>\n",
              "\n",
              "      <script>\n",
              "        const buttonEl =\n",
              "          document.querySelector('#df-b29e408f-59bd-4320-b8c8-40d06cc63770 button.colab-df-convert');\n",
              "        buttonEl.style.display =\n",
              "          google.colab.kernel.accessAllowed ? 'block' : 'none';\n",
              "\n",
              "        async function convertToInteractive(key) {\n",
              "          const element = document.querySelector('#df-b29e408f-59bd-4320-b8c8-40d06cc63770');\n",
              "          const dataTable =\n",
              "            await google.colab.kernel.invokeFunction('convertToInteractive',\n",
              "                                                     [key], {});\n",
              "          if (!dataTable) return;\n",
              "\n",
              "          const docLinkHtml = 'Like what you see? Visit the ' +\n",
              "            '<a target=\"_blank\" href=https://colab.research.google.com/notebooks/data_table.ipynb>data table notebook</a>'\n",
              "            + ' to learn more about interactive tables.';\n",
              "          element.innerHTML = '';\n",
              "          dataTable['output_type'] = 'display_data';\n",
              "          await google.colab.output.renderOutput(dataTable, element);\n",
              "          const docLink = document.createElement('div');\n",
              "          docLink.innerHTML = docLinkHtml;\n",
              "          element.appendChild(docLink);\n",
              "        }\n",
              "      </script>\n",
              "    </div>\n",
              "  </div>\n",
              "  "
            ]
          },
          "metadata": {},
          "execution_count": 3
        }
      ]
    },
    {
      "cell_type": "code",
      "source": [
        "ETH.info()"
      ],
      "metadata": {
        "colab": {
          "base_uri": "https://localhost:8080/"
        },
        "id": "Bv5GgZXMIojB",
        "outputId": "e1b9e5ef-c633-4b40-b5f9-88712e0c9e25"
      },
      "execution_count": null,
      "outputs": [
        {
          "output_type": "stream",
          "name": "stdout",
          "text": [
            "<class 'pandas.core.frame.DataFrame'>\n",
            "RangeIndex: 1827 entries, 0 to 1826\n",
            "Data columns (total 7 columns):\n",
            " #   Column     Non-Null Count  Dtype  \n",
            "---  ------     --------------  -----  \n",
            " 0   Date       1827 non-null   object \n",
            " 1   Open       1827 non-null   float64\n",
            " 2   High       1827 non-null   float64\n",
            " 3   Low        1827 non-null   float64\n",
            " 4   Close      1827 non-null   float64\n",
            " 5   Adj Close  1827 non-null   float64\n",
            " 6   Volume     1827 non-null   int64  \n",
            "dtypes: float64(5), int64(1), object(1)\n",
            "memory usage: 100.0+ KB\n"
          ]
        }
      ]
    },
    {
      "cell_type": "markdown",
      "source": [
        "Now lets see the destribution of volume values, in order to choose best normalizaiton technic for that type of data"
      ],
      "metadata": {
        "id": "74h7vPgqw0XO"
      }
    },
    {
      "cell_type": "code",
      "source": [
        "plt.figure(figsize = (20, 5))\n",
        "\n",
        "plt.plot(ETH['Date'][ETH['Date'] < '2021-12-30'], ETH['Volume'][ETH['Date'] < '2021-12-30'], label = 'Training')\n",
        "plt.xlabel('Time')\n",
        "plt.ylabel('Closing Price')\n",
        "plt.legend(loc = 'best')"
      ],
      "metadata": {
        "colab": {
          "base_uri": "https://localhost:8080/",
          "height": 316
        },
        "id": "vIQEGq4mxAga",
        "outputId": "3cabd2e6-60b2-4077-9e27-ab88b814b20a"
      },
      "execution_count": null,
      "outputs": [
        {
          "output_type": "execute_result",
          "data": {
            "text/plain": [
              "<matplotlib.legend.Legend at 0x7f8ab566a1f0>"
            ]
          },
          "metadata": {},
          "execution_count": 5
        },
        {
          "output_type": "display_data",
          "data": {
            "text/plain": [
              "<Figure size 1440x360 with 1 Axes>"
            ],
            "image/png": "[encoded data removed]"
          },
          "metadata": {
            "needs_background": "light"
          }
        }
      ]
    },
    {
      "cell_type": "markdown",
      "source": [
        "Here we change all the values to be the same format"
      ],
      "metadata": {
        "id": "yN5CcK6txBce"
      }
    },
    {
      "cell_type": "code",
      "source": [
        "ETH[\"Date\"] = pd.to_datetime(ETH[\"Date\"]) #converting Date from Object to datetime format\n",
        "ETH = ETH.astype({\"Volume\":float}) #converting volume from int to float64\n",
        "ETH.info()"
      ],
      "metadata": {
        "colab": {
          "base_uri": "https://localhost:8080/"
        },
        "id": "OvzVZ5BUJWMb",
        "outputId": "49869fab-4cc5-4f18-dfe5-9da9a698aaf0"
      },
      "execution_count": null,
      "outputs": [
        {
          "output_type": "stream",
          "name": "stdout",
          "text": [
            "<class 'pandas.core.frame.DataFrame'>\n",
            "RangeIndex: 1827 entries, 0 to 1826\n",
            "Data columns (total 7 columns):\n",
            " #   Column     Non-Null Count  Dtype         \n",
            "---  ------     --------------  -----         \n",
            " 0   Date       1827 non-null   datetime64[ns]\n",
            " 1   Open       1827 non-null   float64       \n",
            " 2   High       1827 non-null   float64       \n",
            " 3   Low        1827 non-null   float64       \n",
            " 4   Close      1827 non-null   float64       \n",
            " 5   Adj Close  1827 non-null   float64       \n",
            " 6   Volume     1827 non-null   float64       \n",
            "dtypes: datetime64[ns](1), float64(6)\n",
            "memory usage: 100.0 KB\n"
          ]
        }
      ]
    },
    {
      "cell_type": "markdown",
      "source": [
        "It is clear that data is in sutable format now and it is time for next step\n",
        "\n",
        "# Exploratory Data Analysis\n",
        "\n"
      ],
      "metadata": {
        "id": "y60kudiCKdPc"
      }
    },
    {
      "cell_type": "code",
      "source": [
        "# Lets look at history of closing prices for ETH USD pair\n",
        "plt.figure(figsize = (6,3))\n",
        "plt.plot(ETH[\"Date\"], ETH[\"Adj Close\"])\n",
        "plt.title(\"ETH\")\n",
        "plt.ylabel('Adj. Close Price')"
      ],
      "metadata": {
        "colab": {
          "base_uri": "https://localhost:8080/",
          "height": 244
        },
        "id": "4k4ewFysOfjo",
        "outputId": "88b62544-28dc-4696-bb14-22762ac011ab"
      },
      "execution_count": null,
      "outputs": [
        {
          "output_type": "execute_result",
          "data": {
            "text/plain": [
              "Text(0, 0.5, 'Adj. Close Price')"
            ]
          },
          "metadata": {},
          "execution_count": 8
        },
        {
          "output_type": "display_data",
          "data": {
            "text/plain": [
              "<Figure size 432x216 with 1 Axes>"
            ],
            "image/png": "[encoded data removed]"
          },
          "metadata": {
            "needs_background": "light"
          }
        }
      ]
    },
    {
      "cell_type": "markdown",
      "source": [
        "Now saving the edited csv to the Database"
      ],
      "metadata": {
        "id": "28bOl6MIt8DC"
      }
    },
    {
      "cell_type": "code",
      "source": [
        "df = pd.DataFrame(ETH)\n",
        "df.to_csv(\"/content/drive/MyDrive/Database/ETH-preprocessed.csv\") #saving changed csv to google drive"
      ],
      "metadata": {
        "id": "MZc0kQSSuDrs"
      },
      "execution_count": null,
      "outputs": []
    }
  ]
}